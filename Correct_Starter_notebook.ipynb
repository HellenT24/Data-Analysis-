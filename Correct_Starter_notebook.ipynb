{
 "cells": [
  {
   "cell_type": "markdown",
   "metadata": {},
   "source": [
    "# Analyze Supermarket Data Across the Country - Company XYZ\n",
    "\n",
    "Company XYZ owns a supermarket chain across the country. Each major branch located in 3 cities across the country recorded sales information for 3 months, to help the company understand sales trends and determine its growth, as the rise of supermarkets competition is seen."
   ]
  },
  {
   "cell_type": "markdown",
   "metadata": {},
   "source": [
    "You will apply learnings to analyse the dataset in the data folder, and the description of each feature can be found in this [link](https://docs.google.com/document/d/1Sv-DlynHpOBAs5qKokn5MtbzqZcumTSlSI4-wQ0kf0w/edit?usp=sharing)"
   ]
  },
  {
   "cell_type": "markdown",
   "metadata": {},
   "source": [
    "## Step 1 - Loading the Dataset\n",
    "In this step, you will combine the dataset from each branch (3 branches) into one dataset for easy analysis. You expected to write the syntaxes that will read multiple files from your current working directory and export a CSV file after combining. \n",
    "The learning from this step is the ability to automate reading and combining multiple CSV files, because as a Data Professional, you will saddled with the responsibility of reading data from different sources, and this is one of the use case."
   ]
  },
  {
   "cell_type": "markdown",
   "metadata": {},
   "source": [
    "#### To-Do - Import Libraries"
   ]
  },
  {
   "cell_type": "code",
   "execution_count": 1,
   "metadata": {},
   "outputs": [
    {
     "data": {
      "text/plain": [
       "'C:\\\\Users\\\\User\\\\Desktop\\\\project'"
      ]
     },
     "execution_count": 1,
     "metadata": {},
     "output_type": "execute_result"
    }
   ],
   "source": [
    "import os\n",
    "import glob\n",
    "import pandas as pd\n",
    "os.getcwd()"
   ]
  },
  {
   "cell_type": "code",
   "execution_count": 2,
   "metadata": {},
   "outputs": [
    {
     "data": {
      "text/plain": [
       "'C:\\\\Users\\\\User\\\\Desktop\\\\Data-Analysis-Project-main'"
      ]
     },
     "execution_count": 2,
     "metadata": {},
     "output_type": "execute_result"
    }
   ],
   "source": [
    "os.chdir(\"C:\\\\Users\\\\User\\\\Desktop\\\\Data-Analysis-Project-main\") #Current working directory that contains your dataset and code file\n",
    "os.getcwd()"
   ]
  },
  {
   "cell_type": "markdown",
   "metadata": {},
   "source": [
    "#### To-Do - Use glob to match the pattern \"csv\""
   ]
  },
  {
   "cell_type": "code",
   "execution_count": 6,
   "metadata": {},
   "outputs": [
    {
     "data": {
      "text/plain": [
       "['Abuja_Branch.csv', 'Lagos_Branch.csv', 'Port_Harcourt_Branch.csv']"
      ]
     },
     "execution_count": 6,
     "metadata": {},
     "output_type": "execute_result"
    }
   ],
   "source": [
    "files = glob.glob('*.csv') \n",
    "files"
   ]
  },
  {
   "cell_type": "markdown",
   "metadata": {},
   "source": [
    "#### To-Do - Combine all the files in the generated list above and export to a CSV\n",
    "Tips - Use the `pd.concat` method"
   ]
  },
  {
   "cell_type": "code",
   "execution_count": 13,
   "metadata": {},
   "outputs": [],
   "source": [
    "combined_data = pd.concat([pd.read_csv(f) for f in files], ignore_index=True) \n",
    "combined_data.to_csv('All_Branches_Data.csv', index=False)"
   ]
  },
  {
   "cell_type": "markdown",
   "metadata": {},
   "source": [
    "#### To-Do -Read the CSV file using `pd.read_csv` method"
   ]
  },
  {
   "cell_type": "code",
   "execution_count": 14,
   "metadata": {},
   "outputs": [],
   "source": [
    "data = pd.read_csv(\"All_Branches_Data.csv\")"
   ]
  },
  {
   "cell_type": "markdown",
   "metadata": {},
   "source": [
    "## Step 2 - Data Exploration\n",
    "In this step you will explore the loaded dataset using some built-in Pandas function. You expected to begin to think about your analytical approach from here. \n",
    "You can include other methods that you might think will make your exploration process easier. For Instance, you can write a function that print out a summary of the missing data occurence in the data. Be sure to document these methods using `markdown` and in-line `comments`."
   ]
  },
  {
   "cell_type": "markdown",
   "metadata": {},
   "source": [
    "### Import Libraries"
   ]
  },
  {
   "cell_type": "code",
   "execution_count": 15,
   "metadata": {},
   "outputs": [],
   "source": [
    "import numpy as np\n",
    "import seaborn as sns\n",
    "import matplotlib.pyplot as plt\n",
    "%matplotlib inline\n",
    "plt.style.use('bmh')  \n",
    "import warnings\n",
    "warnings.filterwarnings('ignore')"
   ]
  },
  {
   "cell_type": "markdown",
   "metadata": {},
   "source": [
    "#### To-Do - Use the head() method to view first few rows of the dataset"
   ]
  },
  {
   "cell_type": "code",
   "execution_count": 16,
   "metadata": {},
   "outputs": [
    {
     "data": {
      "text/html": [
       "<div>\n",
       "<style scoped>\n",
       "    .dataframe tbody tr th:only-of-type {\n",
       "        vertical-align: middle;\n",
       "    }\n",
       "\n",
       "    .dataframe tbody tr th {\n",
       "        vertical-align: top;\n",
       "    }\n",
       "\n",
       "    .dataframe thead th {\n",
       "        text-align: right;\n",
       "    }\n",
       "</style>\n",
       "<table border=\"1\" class=\"dataframe\">\n",
       "  <thead>\n",
       "    <tr style=\"text-align: right;\">\n",
       "      <th></th>\n",
       "      <th>Invoice ID</th>\n",
       "      <th>Branch</th>\n",
       "      <th>City</th>\n",
       "      <th>Customer type</th>\n",
       "      <th>Gender</th>\n",
       "      <th>Product line</th>\n",
       "      <th>Unit price</th>\n",
       "      <th>Quantity</th>\n",
       "      <th>Tax 5%</th>\n",
       "      <th>Total</th>\n",
       "      <th>Date</th>\n",
       "      <th>Time</th>\n",
       "      <th>Payment</th>\n",
       "      <th>cogs</th>\n",
       "      <th>gross margin percentage</th>\n",
       "      <th>gross income</th>\n",
       "      <th>Rating</th>\n",
       "    </tr>\n",
       "  </thead>\n",
       "  <tbody>\n",
       "    <tr>\n",
       "      <th>0</th>\n",
       "      <td>692-92-5582</td>\n",
       "      <td>B</td>\n",
       "      <td>Abuja</td>\n",
       "      <td>Member</td>\n",
       "      <td>Female</td>\n",
       "      <td>Food and beverages</td>\n",
       "      <td>19742.4</td>\n",
       "      <td>3</td>\n",
       "      <td>2961.36</td>\n",
       "      <td>62188.56</td>\n",
       "      <td>2/20/2019</td>\n",
       "      <td>13:27</td>\n",
       "      <td>Card</td>\n",
       "      <td>59227.2</td>\n",
       "      <td>4.761905</td>\n",
       "      <td>2961.36</td>\n",
       "      <td>5.9</td>\n",
       "    </tr>\n",
       "    <tr>\n",
       "      <th>1</th>\n",
       "      <td>351-62-0822</td>\n",
       "      <td>B</td>\n",
       "      <td>Abuja</td>\n",
       "      <td>Member</td>\n",
       "      <td>Female</td>\n",
       "      <td>Fashion accessories</td>\n",
       "      <td>5212.8</td>\n",
       "      <td>4</td>\n",
       "      <td>1042.56</td>\n",
       "      <td>21893.76</td>\n",
       "      <td>2/6/2019</td>\n",
       "      <td>18:07</td>\n",
       "      <td>Epay</td>\n",
       "      <td>20851.2</td>\n",
       "      <td>4.761905</td>\n",
       "      <td>1042.56</td>\n",
       "      <td>4.5</td>\n",
       "    </tr>\n",
       "    <tr>\n",
       "      <th>2</th>\n",
       "      <td>529-56-3974</td>\n",
       "      <td>B</td>\n",
       "      <td>Abuja</td>\n",
       "      <td>Member</td>\n",
       "      <td>Male</td>\n",
       "      <td>Electronic accessories</td>\n",
       "      <td>9183.6</td>\n",
       "      <td>4</td>\n",
       "      <td>1836.72</td>\n",
       "      <td>38571.12</td>\n",
       "      <td>3/9/2019</td>\n",
       "      <td>17:03</td>\n",
       "      <td>Cash</td>\n",
       "      <td>36734.4</td>\n",
       "      <td>4.761905</td>\n",
       "      <td>1836.72</td>\n",
       "      <td>6.8</td>\n",
       "    </tr>\n",
       "    <tr>\n",
       "      <th>3</th>\n",
       "      <td>299-46-1805</td>\n",
       "      <td>B</td>\n",
       "      <td>Abuja</td>\n",
       "      <td>Member</td>\n",
       "      <td>Female</td>\n",
       "      <td>Sports and travel</td>\n",
       "      <td>33739.2</td>\n",
       "      <td>6</td>\n",
       "      <td>10121.76</td>\n",
       "      <td>212556.96</td>\n",
       "      <td>1/15/2019</td>\n",
       "      <td>16:19</td>\n",
       "      <td>Cash</td>\n",
       "      <td>202435.2</td>\n",
       "      <td>4.761905</td>\n",
       "      <td>10121.76</td>\n",
       "      <td>4.5</td>\n",
       "    </tr>\n",
       "    <tr>\n",
       "      <th>4</th>\n",
       "      <td>319-50-3348</td>\n",
       "      <td>B</td>\n",
       "      <td>Abuja</td>\n",
       "      <td>Normal</td>\n",
       "      <td>Female</td>\n",
       "      <td>Home and lifestyle</td>\n",
       "      <td>14508.0</td>\n",
       "      <td>2</td>\n",
       "      <td>1450.80</td>\n",
       "      <td>30466.80</td>\n",
       "      <td>3/11/2019</td>\n",
       "      <td>15:30</td>\n",
       "      <td>Epay</td>\n",
       "      <td>29016.0</td>\n",
       "      <td>4.761905</td>\n",
       "      <td>1450.80</td>\n",
       "      <td>4.4</td>\n",
       "    </tr>\n",
       "  </tbody>\n",
       "</table>\n",
       "</div>"
      ],
      "text/plain": [
       "    Invoice ID Branch   City Customer type  Gender            Product line  \\\n",
       "0  692-92-5582      B  Abuja        Member  Female      Food and beverages   \n",
       "1  351-62-0822      B  Abuja        Member  Female     Fashion accessories   \n",
       "2  529-56-3974      B  Abuja        Member    Male  Electronic accessories   \n",
       "3  299-46-1805      B  Abuja        Member  Female       Sports and travel   \n",
       "4  319-50-3348      B  Abuja        Normal  Female      Home and lifestyle   \n",
       "\n",
       "   Unit price  Quantity    Tax 5%      Total       Date   Time Payment  \\\n",
       "0     19742.4         3   2961.36   62188.56  2/20/2019  13:27    Card   \n",
       "1      5212.8         4   1042.56   21893.76   2/6/2019  18:07    Epay   \n",
       "2      9183.6         4   1836.72   38571.12   3/9/2019  17:03    Cash   \n",
       "3     33739.2         6  10121.76  212556.96  1/15/2019  16:19    Cash   \n",
       "4     14508.0         2   1450.80   30466.80  3/11/2019  15:30    Epay   \n",
       "\n",
       "       cogs  gross margin percentage  gross income  Rating  \n",
       "0   59227.2                 4.761905       2961.36     5.9  \n",
       "1   20851.2                 4.761905       1042.56     4.5  \n",
       "2   36734.4                 4.761905       1836.72     6.8  \n",
       "3  202435.2                 4.761905      10121.76     4.5  \n",
       "4   29016.0                 4.761905       1450.80     4.4  "
      ]
     },
     "execution_count": 16,
     "metadata": {},
     "output_type": "execute_result"
    }
   ],
   "source": [
    "#[Write your Code Here]\n",
    "data.head()"
   ]
  },
  {
   "cell_type": "markdown",
   "metadata": {},
   "source": [
    "#### To-Do - Check the number of rows and columns present in the data using the shape attribute."
   ]
  },
  {
   "cell_type": "code",
   "execution_count": 17,
   "metadata": {},
   "outputs": [
    {
     "data": {
      "text/plain": [
       "(1000, 17)"
      ]
     },
     "execution_count": 17,
     "metadata": {},
     "output_type": "execute_result"
    }
   ],
   "source": [
    "#[Write your Code Here]\n",
    "data.shape"
   ]
  },
  {
   "cell_type": "markdown",
   "metadata": {},
   "source": [
    "#### To-Do - Generate the names of the columns using the columns attribute."
   ]
  },
  {
   "cell_type": "code",
   "execution_count": 18,
   "metadata": {},
   "outputs": [
    {
     "data": {
      "text/plain": [
       "Index(['Invoice ID', 'Branch', 'City', 'Customer type', 'Gender',\n",
       "       'Product line', 'Unit price', 'Quantity', 'Tax 5%', 'Total', 'Date',\n",
       "       'Time', 'Payment', 'cogs', 'gross margin percentage', 'gross income',\n",
       "       'Rating'],\n",
       "      dtype='object')"
      ]
     },
     "execution_count": 18,
     "metadata": {},
     "output_type": "execute_result"
    }
   ],
   "source": [
    "#[Write your Code Here]\n",
    "data.columns"
   ]
  },
  {
   "cell_type": "markdown",
   "metadata": {},
   "source": [
    "#### To-Do - Statiscal Summary\n",
    "The describe method provides the data statistical summary for the dataset, use the method to explore the statistical summary."
   ]
  },
  {
   "cell_type": "code",
   "execution_count": 19,
   "metadata": {},
   "outputs": [
    {
     "data": {
      "text/html": [
       "<div>\n",
       "<style scoped>\n",
       "    .dataframe tbody tr th:only-of-type {\n",
       "        vertical-align: middle;\n",
       "    }\n",
       "\n",
       "    .dataframe tbody tr th {\n",
       "        vertical-align: top;\n",
       "    }\n",
       "\n",
       "    .dataframe thead th {\n",
       "        text-align: right;\n",
       "    }\n",
       "</style>\n",
       "<table border=\"1\" class=\"dataframe\">\n",
       "  <thead>\n",
       "    <tr style=\"text-align: right;\">\n",
       "      <th></th>\n",
       "      <th>Unit price</th>\n",
       "      <th>Quantity</th>\n",
       "      <th>Tax 5%</th>\n",
       "      <th>Total</th>\n",
       "      <th>cogs</th>\n",
       "      <th>gross margin percentage</th>\n",
       "      <th>gross income</th>\n",
       "      <th>Rating</th>\n",
       "    </tr>\n",
       "  </thead>\n",
       "  <tbody>\n",
       "    <tr>\n",
       "      <th>count</th>\n",
       "      <td>1000.000000</td>\n",
       "      <td>1000.000000</td>\n",
       "      <td>1000.000000</td>\n",
       "      <td>1000.000000</td>\n",
       "      <td>1000.000000</td>\n",
       "      <td>1000.000000</td>\n",
       "      <td>1000.000000</td>\n",
       "      <td>1000.00000</td>\n",
       "    </tr>\n",
       "    <tr>\n",
       "      <th>mean</th>\n",
       "      <td>20041.966800</td>\n",
       "      <td>5.510000</td>\n",
       "      <td>5536.572840</td>\n",
       "      <td>116268.029640</td>\n",
       "      <td>110731.456800</td>\n",
       "      <td>4.761905</td>\n",
       "      <td>5536.572840</td>\n",
       "      <td>6.97270</td>\n",
       "    </tr>\n",
       "    <tr>\n",
       "      <th>std</th>\n",
       "      <td>9538.066205</td>\n",
       "      <td>2.923431</td>\n",
       "      <td>4215.177173</td>\n",
       "      <td>88518.720636</td>\n",
       "      <td>84303.543463</td>\n",
       "      <td>0.000000</td>\n",
       "      <td>4215.177173</td>\n",
       "      <td>1.71858</td>\n",
       "    </tr>\n",
       "    <tr>\n",
       "      <th>min</th>\n",
       "      <td>3628.800000</td>\n",
       "      <td>1.000000</td>\n",
       "      <td>183.060000</td>\n",
       "      <td>3844.260000</td>\n",
       "      <td>3661.200000</td>\n",
       "      <td>4.761905</td>\n",
       "      <td>183.060000</td>\n",
       "      <td>4.00000</td>\n",
       "    </tr>\n",
       "    <tr>\n",
       "      <th>25%</th>\n",
       "      <td>11835.000000</td>\n",
       "      <td>3.000000</td>\n",
       "      <td>2132.955000</td>\n",
       "      <td>44792.055000</td>\n",
       "      <td>42659.100000</td>\n",
       "      <td>4.761905</td>\n",
       "      <td>2132.955000</td>\n",
       "      <td>5.50000</td>\n",
       "    </tr>\n",
       "    <tr>\n",
       "      <th>50%</th>\n",
       "      <td>19882.800000</td>\n",
       "      <td>5.000000</td>\n",
       "      <td>4351.680000</td>\n",
       "      <td>91385.280000</td>\n",
       "      <td>87033.600000</td>\n",
       "      <td>4.761905</td>\n",
       "      <td>4351.680000</td>\n",
       "      <td>7.00000</td>\n",
       "    </tr>\n",
       "    <tr>\n",
       "      <th>75%</th>\n",
       "      <td>28056.600000</td>\n",
       "      <td>8.000000</td>\n",
       "      <td>8080.290000</td>\n",
       "      <td>169686.090000</td>\n",
       "      <td>161605.800000</td>\n",
       "      <td>4.761905</td>\n",
       "      <td>8080.290000</td>\n",
       "      <td>8.50000</td>\n",
       "    </tr>\n",
       "    <tr>\n",
       "      <th>max</th>\n",
       "      <td>35985.600000</td>\n",
       "      <td>10.000000</td>\n",
       "      <td>17874.000000</td>\n",
       "      <td>375354.000000</td>\n",
       "      <td>357480.000000</td>\n",
       "      <td>4.761905</td>\n",
       "      <td>17874.000000</td>\n",
       "      <td>10.00000</td>\n",
       "    </tr>\n",
       "  </tbody>\n",
       "</table>\n",
       "</div>"
      ],
      "text/plain": [
       "         Unit price     Quantity        Tax 5%          Total           cogs  \\\n",
       "count   1000.000000  1000.000000   1000.000000    1000.000000    1000.000000   \n",
       "mean   20041.966800     5.510000   5536.572840  116268.029640  110731.456800   \n",
       "std     9538.066205     2.923431   4215.177173   88518.720636   84303.543463   \n",
       "min     3628.800000     1.000000    183.060000    3844.260000    3661.200000   \n",
       "25%    11835.000000     3.000000   2132.955000   44792.055000   42659.100000   \n",
       "50%    19882.800000     5.000000   4351.680000   91385.280000   87033.600000   \n",
       "75%    28056.600000     8.000000   8080.290000  169686.090000  161605.800000   \n",
       "max    35985.600000    10.000000  17874.000000  375354.000000  357480.000000   \n",
       "\n",
       "       gross margin percentage  gross income      Rating  \n",
       "count              1000.000000   1000.000000  1000.00000  \n",
       "mean                  4.761905   5536.572840     6.97270  \n",
       "std                   0.000000   4215.177173     1.71858  \n",
       "min                   4.761905    183.060000     4.00000  \n",
       "25%                   4.761905   2132.955000     5.50000  \n",
       "50%                   4.761905   4351.680000     7.00000  \n",
       "75%                   4.761905   8080.290000     8.50000  \n",
       "max                   4.761905  17874.000000    10.00000  "
      ]
     },
     "execution_count": 19,
     "metadata": {},
     "output_type": "execute_result"
    }
   ],
   "source": [
    "# statistical summary of the dataset excluding the object columns\n",
    "data.describe()"
   ]
  },
  {
   "cell_type": "code",
   "execution_count": 20,
   "metadata": {},
   "outputs": [
    {
     "data": {
      "text/html": [
       "<div>\n",
       "<style scoped>\n",
       "    .dataframe tbody tr th:only-of-type {\n",
       "        vertical-align: middle;\n",
       "    }\n",
       "\n",
       "    .dataframe tbody tr th {\n",
       "        vertical-align: top;\n",
       "    }\n",
       "\n",
       "    .dataframe thead th {\n",
       "        text-align: right;\n",
       "    }\n",
       "</style>\n",
       "<table border=\"1\" class=\"dataframe\">\n",
       "  <thead>\n",
       "    <tr style=\"text-align: right;\">\n",
       "      <th></th>\n",
       "      <th>Invoice ID</th>\n",
       "      <th>Branch</th>\n",
       "      <th>City</th>\n",
       "      <th>Customer type</th>\n",
       "      <th>Gender</th>\n",
       "      <th>Product line</th>\n",
       "      <th>Date</th>\n",
       "      <th>Time</th>\n",
       "      <th>Payment</th>\n",
       "    </tr>\n",
       "  </thead>\n",
       "  <tbody>\n",
       "    <tr>\n",
       "      <th>count</th>\n",
       "      <td>1000</td>\n",
       "      <td>1000</td>\n",
       "      <td>1000</td>\n",
       "      <td>1000</td>\n",
       "      <td>1000</td>\n",
       "      <td>1000</td>\n",
       "      <td>1000</td>\n",
       "      <td>1000</td>\n",
       "      <td>1000</td>\n",
       "    </tr>\n",
       "    <tr>\n",
       "      <th>unique</th>\n",
       "      <td>1000</td>\n",
       "      <td>3</td>\n",
       "      <td>3</td>\n",
       "      <td>2</td>\n",
       "      <td>2</td>\n",
       "      <td>6</td>\n",
       "      <td>89</td>\n",
       "      <td>506</td>\n",
       "      <td>3</td>\n",
       "    </tr>\n",
       "    <tr>\n",
       "      <th>top</th>\n",
       "      <td>745-74-0715</td>\n",
       "      <td>A</td>\n",
       "      <td>Lagos</td>\n",
       "      <td>Member</td>\n",
       "      <td>Female</td>\n",
       "      <td>Fashion accessories</td>\n",
       "      <td>2/7/2019</td>\n",
       "      <td>14:42</td>\n",
       "      <td>Epay</td>\n",
       "    </tr>\n",
       "    <tr>\n",
       "      <th>freq</th>\n",
       "      <td>1</td>\n",
       "      <td>340</td>\n",
       "      <td>340</td>\n",
       "      <td>501</td>\n",
       "      <td>501</td>\n",
       "      <td>178</td>\n",
       "      <td>20</td>\n",
       "      <td>7</td>\n",
       "      <td>345</td>\n",
       "    </tr>\n",
       "  </tbody>\n",
       "</table>\n",
       "</div>"
      ],
      "text/plain": [
       "         Invoice ID Branch   City Customer type  Gender         Product line  \\\n",
       "count          1000   1000   1000          1000    1000                 1000   \n",
       "unique         1000      3      3             2       2                    6   \n",
       "top     745-74-0715      A  Lagos        Member  Female  Fashion accessories   \n",
       "freq              1    340    340           501     501                  178   \n",
       "\n",
       "            Date   Time Payment  \n",
       "count       1000   1000    1000  \n",
       "unique        89    506       3  \n",
       "top     2/7/2019  14:42    Epay  \n",
       "freq          20      7     345  "
      ]
     },
     "execution_count": 20,
     "metadata": {},
     "output_type": "execute_result"
    }
   ],
   "source": [
    "# statistical summary of the object/categorical(columns) from the dataset\n",
    "data.describe(include=['O'])"
   ]
  },
  {
   "cell_type": "markdown",
   "metadata": {},
   "source": [
    "#### To-Do - Below this cell write in few sentences what you can derive from the data statistical summary"
   ]
  },
  {
   "cell_type": "raw",
   "metadata": {},
   "source": [
    "- The statistic above shown that the total count for both numeric and categorical value is 1000, which means there is no missing data\n",
    "- Epay has the highest payment method\n",
    "- The highest Product line is Fashion accessories with the frequecy of 178\n",
    "- The smallest possible value of SD is zero. If SD is zero, all the numbers in the dataset share the same value. for instance, gross margin percentage column\n",
    "- SD is affected by outliers as its calculation is based on the mean\n",
    "- based on the mean shown above for each column, we can conclude that they are influenced by outliers (looking at the minimum and maximum value).\n",
    "- A median(which is also known as 50 percentile) is not influenced by the outliers"
   ]
  },
  {
   "cell_type": "markdown",
   "metadata": {},
   "source": [
    "#### To-Do - Missing values\n",
    "The `isnull`, and `notna` methods can provide a quick overview of the missing data occurence, use that to observe the presence of missing data in the dataset. You can add the sum method to get a summary and not boolean values."
   ]
  },
  {
   "cell_type": "code",
   "execution_count": 21,
   "metadata": {},
   "outputs": [
    {
     "data": {
      "text/plain": [
       "Invoice ID                 0\n",
       "Branch                     0\n",
       "City                       0\n",
       "Customer type              0\n",
       "Gender                     0\n",
       "Product line               0\n",
       "Unit price                 0\n",
       "Quantity                   0\n",
       "Tax 5%                     0\n",
       "Total                      0\n",
       "Date                       0\n",
       "Time                       0\n",
       "Payment                    0\n",
       "cogs                       0\n",
       "gross margin percentage    0\n",
       "gross income               0\n",
       "Rating                     0\n",
       "dtype: int64"
      ]
     },
     "execution_count": 21,
     "metadata": {},
     "output_type": "execute_result"
    }
   ],
   "source": [
    "#[Write your Code Here]\n",
    "data.isnull().sum()"
   ]
  },
  {
   "cell_type": "markdown",
   "metadata": {},
   "source": [
    "#### To-Do - Data Information\n",
    "The `info()` function is used to print a concise summary of a DataFrame. This method prints information about a DataFrame including the index dtype and column dtypes, non-null values and memory usage. Use this method to observe the data type of each feature."
   ]
  },
  {
   "cell_type": "code",
   "execution_count": 22,
   "metadata": {},
   "outputs": [
    {
     "name": "stdout",
     "output_type": "stream",
     "text": [
      "<class 'pandas.core.frame.DataFrame'>\n",
      "RangeIndex: 1000 entries, 0 to 999\n",
      "Data columns (total 17 columns):\n",
      " #   Column                   Non-Null Count  Dtype  \n",
      "---  ------                   --------------  -----  \n",
      " 0   Invoice ID               1000 non-null   object \n",
      " 1   Branch                   1000 non-null   object \n",
      " 2   City                     1000 non-null   object \n",
      " 3   Customer type            1000 non-null   object \n",
      " 4   Gender                   1000 non-null   object \n",
      " 5   Product line             1000 non-null   object \n",
      " 6   Unit price               1000 non-null   float64\n",
      " 7   Quantity                 1000 non-null   int64  \n",
      " 8   Tax 5%                   1000 non-null   float64\n",
      " 9   Total                    1000 non-null   float64\n",
      " 10  Date                     1000 non-null   object \n",
      " 11  Time                     1000 non-null   object \n",
      " 12  Payment                  1000 non-null   object \n",
      " 13  cogs                     1000 non-null   float64\n",
      " 14  gross margin percentage  1000 non-null   float64\n",
      " 15  gross income             1000 non-null   float64\n",
      " 16  Rating                   1000 non-null   float64\n",
      "dtypes: float64(7), int64(1), object(9)\n",
      "memory usage: 132.9+ KB\n"
     ]
    }
   ],
   "source": [
    "#[Write your Code Here]\n",
    "data.info()"
   ]
  },
  {
   "cell_type": "markdown",
   "metadata": {},
   "source": [
    "## Step 3 - Dealing with DateTime Features"
   ]
  },
  {
   "cell_type": "markdown",
   "metadata": {},
   "source": [
    "From the summary above, you can observe that the `date` and `time` columns are not in the appropriate data type\n",
    "you can convert to `datetime` datatype using the `to_datetime()` method. After that is done, use the type attribute \n",
    "to confirm the datatype. "
   ]
  },
  {
   "cell_type": "markdown",
   "metadata": {},
   "source": [
    "#### To-Do - Use `to_datetime()` to convert the `date` column to `datetime`"
   ]
  },
  {
   "cell_type": "code",
   "execution_count": 23,
   "metadata": {},
   "outputs": [],
   "source": [
    "#[Write your Code Here]\n",
    "data['Date'] = pd.to_datetime(data['Date'])"
   ]
  },
  {
   "cell_type": "markdown",
   "metadata": {},
   "source": [
    "#### To-Do - Check the datatype to confirm if it's in `datetime`"
   ]
  },
  {
   "cell_type": "code",
   "execution_count": 24,
   "metadata": {},
   "outputs": [
    {
     "name": "stdout",
     "output_type": "stream",
     "text": [
      "<class 'pandas.core.frame.DataFrame'>\n",
      "RangeIndex: 1000 entries, 0 to 999\n",
      "Data columns (total 17 columns):\n",
      " #   Column                   Non-Null Count  Dtype         \n",
      "---  ------                   --------------  -----         \n",
      " 0   Invoice ID               1000 non-null   object        \n",
      " 1   Branch                   1000 non-null   object        \n",
      " 2   City                     1000 non-null   object        \n",
      " 3   Customer type            1000 non-null   object        \n",
      " 4   Gender                   1000 non-null   object        \n",
      " 5   Product line             1000 non-null   object        \n",
      " 6   Unit price               1000 non-null   float64       \n",
      " 7   Quantity                 1000 non-null   int64         \n",
      " 8   Tax 5%                   1000 non-null   float64       \n",
      " 9   Total                    1000 non-null   float64       \n",
      " 10  Date                     1000 non-null   datetime64[ns]\n",
      " 11  Time                     1000 non-null   object        \n",
      " 12  Payment                  1000 non-null   object        \n",
      " 13  cogs                     1000 non-null   float64       \n",
      " 14  gross margin percentage  1000 non-null   float64       \n",
      " 15  gross income             1000 non-null   float64       \n",
      " 16  Rating                   1000 non-null   float64       \n",
      "dtypes: datetime64[ns](1), float64(7), int64(1), object(8)\n",
      "memory usage: 132.9+ KB\n"
     ]
    }
   ],
   "source": [
    "#[Write your Code Here]\n",
    "data['Date'].dtype\n",
    "data.info()"
   ]
  },
  {
   "cell_type": "markdown",
   "metadata": {},
   "source": [
    "#### To-Do - Repeat the two steps above to the `time` column"
   ]
  },
  {
   "cell_type": "code",
   "execution_count": 25,
   "metadata": {},
   "outputs": [],
   "source": [
    "#[Write your Code Here]\n",
    "data['Time'] = pd.to_datetime(data['Time'])"
   ]
  },
  {
   "cell_type": "markdown",
   "metadata": {},
   "source": [
    "## Extract Features from date & time"
   ]
  },
  {
   "cell_type": "markdown",
   "metadata": {},
   "source": [
    "#### To-Do - Extract the Day feature from the `Date` column, and save to a new `Day` column"
   ]
  },
  {
   "cell_type": "code",
   "execution_count": 26,
   "metadata": {},
   "outputs": [],
   "source": [
    "#[Write your Code Here]\n",
    "data['Day'] = data['Date'].dt.day"
   ]
  },
  {
   "cell_type": "markdown",
   "metadata": {},
   "source": [
    "#### To-Do - Extract the Month feature from the `Date` column, and save to a new `Month` column"
   ]
  },
  {
   "cell_type": "code",
   "execution_count": 27,
   "metadata": {},
   "outputs": [],
   "source": [
    "#[Write your Code Here]\n",
    "data['Month'] = data['Date'].dt.month"
   ]
  },
  {
   "cell_type": "markdown",
   "metadata": {},
   "source": [
    "#### To-Do -Extract the Year feature from the `Date` column, and save to a new `Year` column  "
   ]
  },
  {
   "cell_type": "code",
   "execution_count": 28,
   "metadata": {},
   "outputs": [],
   "source": [
    "#[Write your Code Here]\n",
    "data['Year'] = data['Date'].dt.year"
   ]
  },
  {
   "cell_type": "markdown",
   "metadata": {},
   "source": [
    "#### To-Do - Extract the `Hour` feature from the `Time` column and save to a new `Hour` column"
   ]
  },
  {
   "cell_type": "code",
   "execution_count": 29,
   "metadata": {},
   "outputs": [],
   "source": [
    "#[Write your Code Here]\n",
    "data['Hour'] = data['Time'].dt.hour"
   ]
  },
  {
   "cell_type": "markdown",
   "metadata": {},
   "source": [
    "#### Pandas provide the `nunique()` method to get a count of unique values, while the `unique()` function is used to get unique values of Series object."
   ]
  },
  {
   "cell_type": "markdown",
   "metadata": {},
   "source": [
    "#### To-Do -  From the hours information, determine the numbers of unique hours of sales in the supermarket, and return an array of the hours using the unique() method"
   ]
  },
  {
   "cell_type": "code",
   "execution_count": 30,
   "metadata": {},
   "outputs": [
    {
     "data": {
      "text/plain": [
       "11"
      ]
     },
     "execution_count": 30,
     "metadata": {},
     "output_type": "execute_result"
    }
   ],
   "source": [
    "#[Write your Code Here]\n",
    "data['Hour'].nunique()"
   ]
  },
  {
   "cell_type": "code",
   "execution_count": 31,
   "metadata": {},
   "outputs": [
    {
     "data": {
      "text/plain": [
       "array([13, 18, 17, 16, 15, 10, 12, 19, 14, 11, 20], dtype=int64)"
      ]
     },
     "execution_count": 31,
     "metadata": {},
     "output_type": "execute_result"
    }
   ],
   "source": [
    "#[Write your Code Here]\n",
    "data['Hour'].unique()"
   ]
  },
  {
   "cell_type": "markdown",
   "metadata": {},
   "source": [
    "## Step 4 - Unique Values in Columns"
   ]
  },
  {
   "cell_type": "markdown",
   "metadata": {},
   "source": [
    "With the line of code below, we can get a list of the categorical column in the dataset. We iterate through the columns and check if each element is an object datatype. The result is saved to the \"categorical_columns\" variable\n",
    "as a list."
   ]
  },
  {
   "cell_type": "code",
   "execution_count": 32,
   "metadata": {},
   "outputs": [
    {
     "data": {
      "text/plain": [
       "['Invoice ID',\n",
       " 'Branch',\n",
       " 'City',\n",
       " 'Customer type',\n",
       " 'Gender',\n",
       " 'Product line',\n",
       " 'Payment']"
      ]
     },
     "execution_count": 32,
     "metadata": {},
     "output_type": "execute_result"
    }
   ],
   "source": [
    "#Uncomment the code and Run it\n",
    "categorical_columns = [col for col in data.columns if data[col].dtype == \"object\" ]\n",
    "categorical_columns"
   ]
  },
  {
   "cell_type": "markdown",
   "metadata": {},
   "source": [
    "#### To-Do- From the information above, generate the unique values in the categorical columns (apart from the example - Branch column).\n",
    "For example, the unique values of the \"Branch\" column is displayed in list, as shown below.\n",
    "<br/>\n",
    "`df['Branch'].unique().tolist()\n",
    "['B', 'C', 'A']`\n",
    "</br>\n",
    "<br/>\n",
    "You can add print formating syntax to print out the total numbers of these values in a particular column. "
   ]
  },
  {
   "cell_type": "code",
   "execution_count": 33,
   "metadata": {},
   "outputs": [
    {
     "name": "stdout",
     "output_type": "stream",
     "text": [
      "Total Number of unique values in the Invoice ID Column : 1000\n"
     ]
    }
   ],
   "source": [
    "#Example - Uncomment the Code and Run it\n",
    "data['Invoice ID'].unique().tolist()\n",
    "print(\"Total Number of unique values in the Invoice ID Column : {}\". format(len(data['Invoice ID'].unique().tolist())))"
   ]
  },
  {
   "cell_type": "code",
   "execution_count": 34,
   "metadata": {},
   "outputs": [
    {
     "name": "stdout",
     "output_type": "stream",
     "text": [
      "['Abuja', 'Lagos', 'Port Harcourt']\n",
      "Total Number of unique values in the City Column : 3\n"
     ]
    }
   ],
   "source": [
    "print(data['City'].unique().tolist())\n",
    "print(\"Total Number of unique values in the City Column : {}\". format(len(data['City'].unique().tolist())))"
   ]
  },
  {
   "cell_type": "code",
   "execution_count": 35,
   "metadata": {},
   "outputs": [
    {
     "name": "stdout",
     "output_type": "stream",
     "text": [
      "['Member', 'Normal']\n",
      "Total Number of unique values in the Customer type Column : 2\n"
     ]
    }
   ],
   "source": [
    "print(data['Customer type'].unique().tolist())\n",
    "print(\"Total Number of unique values in the Customer type Column : {}\". format(len(data['Customer type'].unique().tolist())))"
   ]
  },
  {
   "cell_type": "code",
   "execution_count": 36,
   "metadata": {},
   "outputs": [
    {
     "name": "stdout",
     "output_type": "stream",
     "text": [
      "['Food and beverages', 'Fashion accessories', 'Electronic accessories', 'Sports and travel', 'Home and lifestyle', 'Health and beauty']\n",
      "Total Number of unique values in the Product line Column : 6\n"
     ]
    }
   ],
   "source": [
    "print(data['Product line'].unique().tolist())\n",
    "print(\"Total Number of unique values in the Product line Column : {}\". format(len(data['Product line'].unique().tolist())))"
   ]
  },
  {
   "cell_type": "code",
   "execution_count": 37,
   "metadata": {},
   "outputs": [
    {
     "name": "stdout",
     "output_type": "stream",
     "text": [
      "['Female', 'Male']\n",
      "Total Number of unique values in the Gender Column : 2\n"
     ]
    }
   ],
   "source": [
    "print(data['Gender'].unique().tolist())\n",
    "print(\"Total Number of unique values in the Gender Column : {}\". format(len(data['Gender'].unique().tolist())))"
   ]
  },
  {
   "cell_type": "code",
   "execution_count": 38,
   "metadata": {},
   "outputs": [
    {
     "name": "stdout",
     "output_type": "stream",
     "text": [
      "['Card', 'Epay', 'Cash']\n",
      "Total Number of unique values in the Payment Column : 3\n"
     ]
    }
   ],
   "source": [
    "print(data['Payment'].unique().tolist())\n",
    "print(\"Total Number of unique values in the Payment Column : {}\". format(len(data['Payment'].unique().tolist())))"
   ]
  },
  {
   "cell_type": "markdown",
   "metadata": {},
   "source": [
    "#### To-Do: The `value_counts()` function is used to get a Series containing counts of unique values. For the categorical columns above, generate the count figure of the values using the `value_counts() ` method.\n"
   ]
  },
  {
   "cell_type": "code",
   "execution_count": 39,
   "metadata": {},
   "outputs": [
    {
     "data": {
      "text/plain": [
       "A    340\n",
       "B    332\n",
       "C    328\n",
       "Name: Branch, dtype: int64"
      ]
     },
     "execution_count": 39,
     "metadata": {},
     "output_type": "execute_result"
    }
   ],
   "source": [
    "#Example\n",
    "data['Branch'].value_counts()"
   ]
  },
  {
   "cell_type": "raw",
   "metadata": {},
   "source": [
    "Branch A(Lagos) has the highest frequency in the dataset"
   ]
  },
  {
   "cell_type": "code",
   "execution_count": 40,
   "metadata": {},
   "outputs": [
    {
     "data": {
      "text/plain": [
       "Invoice ID   Branch  City           Customer type  Gender  Product line         Payment\n",
       "101-17-6199  A       Lagos          Normal         Male    Food and beverages   Card       1\n",
       "641-62-7288  B       Abuja          Normal         Male    Home and lifestyle   Epay       1\n",
       "633-91-1052  A       Lagos          Normal         Female  Home and lifestyle   Cash       1\n",
       "634-97-8956  A       Lagos          Normal         Male    Food and beverages   Card       1\n",
       "635-28-5728  A       Lagos          Normal         Male    Health and beauty    Epay       1\n",
       "                                                                                          ..\n",
       "373-14-0504  A       Lagos          Member         Female  Sports and travel    Epay       1\n",
       "373-73-7910  A       Lagos          Normal         Male    Sports and travel    Epay       1\n",
       "373-88-1424  C       Port Harcourt  Member         Male    Home and lifestyle   Epay       1\n",
       "374-17-3652  B       Abuja          Member         Female  Food and beverages   Card       1\n",
       "898-04-2717  A       Lagos          Normal         Male    Fashion accessories  Epay       1\n",
       "Length: 1000, dtype: int64"
      ]
     },
     "execution_count": 40,
     "metadata": {},
     "output_type": "execute_result"
    }
   ],
   "source": [
    "data[categorical_columns].value_counts()"
   ]
  },
  {
   "cell_type": "markdown",
   "metadata": {},
   "source": [
    "## Step 5 - Aggregration with GroupBy"
   ]
  },
  {
   "cell_type": "markdown",
   "metadata": {},
   "source": [
    "#### To-Do - Your task here, will be to create a groupby object with the \"City Column\", and aggregation function of sum and mean. "
   ]
  },
  {
   "cell_type": "code",
   "execution_count": 41,
   "metadata": {},
   "outputs": [
    {
     "data": {
      "text/html": [
       "<div>\n",
       "<style scoped>\n",
       "    .dataframe tbody tr th:only-of-type {\n",
       "        vertical-align: middle;\n",
       "    }\n",
       "\n",
       "    .dataframe tbody tr th {\n",
       "        vertical-align: top;\n",
       "    }\n",
       "\n",
       "    .dataframe thead tr th {\n",
       "        text-align: left;\n",
       "    }\n",
       "\n",
       "    .dataframe thead tr:last-of-type th {\n",
       "        text-align: right;\n",
       "    }\n",
       "</style>\n",
       "<table border=\"1\" class=\"dataframe\">\n",
       "  <thead>\n",
       "    <tr>\n",
       "      <th></th>\n",
       "      <th colspan=\"2\" halign=\"left\">Unit price</th>\n",
       "      <th colspan=\"2\" halign=\"left\">Quantity</th>\n",
       "      <th colspan=\"2\" halign=\"left\">Tax 5%</th>\n",
       "      <th colspan=\"2\" halign=\"left\">Total</th>\n",
       "      <th colspan=\"2\" halign=\"left\">cogs</th>\n",
       "      <th>...</th>\n",
       "      <th colspan=\"2\" halign=\"left\">Rating</th>\n",
       "      <th colspan=\"2\" halign=\"left\">Day</th>\n",
       "      <th colspan=\"2\" halign=\"left\">Month</th>\n",
       "      <th colspan=\"2\" halign=\"left\">Year</th>\n",
       "      <th colspan=\"2\" halign=\"left\">Hour</th>\n",
       "    </tr>\n",
       "    <tr>\n",
       "      <th></th>\n",
       "      <th>sum</th>\n",
       "      <th>mean</th>\n",
       "      <th>sum</th>\n",
       "      <th>mean</th>\n",
       "      <th>sum</th>\n",
       "      <th>mean</th>\n",
       "      <th>sum</th>\n",
       "      <th>mean</th>\n",
       "      <th>sum</th>\n",
       "      <th>mean</th>\n",
       "      <th>...</th>\n",
       "      <th>sum</th>\n",
       "      <th>mean</th>\n",
       "      <th>sum</th>\n",
       "      <th>mean</th>\n",
       "      <th>sum</th>\n",
       "      <th>mean</th>\n",
       "      <th>sum</th>\n",
       "      <th>mean</th>\n",
       "      <th>sum</th>\n",
       "      <th>mean</th>\n",
       "    </tr>\n",
       "    <tr>\n",
       "      <th>City</th>\n",
       "      <th></th>\n",
       "      <th></th>\n",
       "      <th></th>\n",
       "      <th></th>\n",
       "      <th></th>\n",
       "      <th></th>\n",
       "      <th></th>\n",
       "      <th></th>\n",
       "      <th></th>\n",
       "      <th></th>\n",
       "      <th></th>\n",
       "      <th></th>\n",
       "      <th></th>\n",
       "      <th></th>\n",
       "      <th></th>\n",
       "      <th></th>\n",
       "      <th></th>\n",
       "      <th></th>\n",
       "      <th></th>\n",
       "      <th></th>\n",
       "      <th></th>\n",
       "    </tr>\n",
       "  </thead>\n",
       "  <tbody>\n",
       "    <tr>\n",
       "      <th>Abuja</th>\n",
       "      <td>6652396.8</td>\n",
       "      <td>20037.339759</td>\n",
       "      <td>1820</td>\n",
       "      <td>5.481928</td>\n",
       "      <td>1820531.52</td>\n",
       "      <td>5483.528675</td>\n",
       "      <td>38231161.92</td>\n",
       "      <td>115154.102169</td>\n",
       "      <td>36410630.4</td>\n",
       "      <td>109670.573494</td>\n",
       "      <td>...</td>\n",
       "      <td>2263.6</td>\n",
       "      <td>6.818072</td>\n",
       "      <td>5068</td>\n",
       "      <td>15.265060</td>\n",
       "      <td>665</td>\n",
       "      <td>2.003012</td>\n",
       "      <td>670308</td>\n",
       "      <td>2019</td>\n",
       "      <td>5029</td>\n",
       "      <td>15.147590</td>\n",
       "    </tr>\n",
       "    <tr>\n",
       "      <th>Lagos</th>\n",
       "      <td>6705176.4</td>\n",
       "      <td>19721.107059</td>\n",
       "      <td>1859</td>\n",
       "      <td>5.467647</td>\n",
       "      <td>1820577.78</td>\n",
       "      <td>5354.640529</td>\n",
       "      <td>38232133.38</td>\n",
       "      <td>112447.451118</td>\n",
       "      <td>36411555.6</td>\n",
       "      <td>107092.810588</td>\n",
       "      <td>...</td>\n",
       "      <td>2389.2</td>\n",
       "      <td>7.027059</td>\n",
       "      <td>5232</td>\n",
       "      <td>15.388235</td>\n",
       "      <td>688</td>\n",
       "      <td>2.023529</td>\n",
       "      <td>686460</td>\n",
       "      <td>2019</td>\n",
       "      <td>4987</td>\n",
       "      <td>14.667647</td>\n",
       "    </tr>\n",
       "    <tr>\n",
       "      <th>Port Harcourt</th>\n",
       "      <td>6684393.6</td>\n",
       "      <td>20379.248780</td>\n",
       "      <td>1831</td>\n",
       "      <td>5.582317</td>\n",
       "      <td>1895463.54</td>\n",
       "      <td>5778.852256</td>\n",
       "      <td>39804734.34</td>\n",
       "      <td>121355.897378</td>\n",
       "      <td>37909270.8</td>\n",
       "      <td>115577.045122</td>\n",
       "      <td>...</td>\n",
       "      <td>2319.9</td>\n",
       "      <td>7.072866</td>\n",
       "      <td>4956</td>\n",
       "      <td>15.109756</td>\n",
       "      <td>640</td>\n",
       "      <td>1.951220</td>\n",
       "      <td>662232</td>\n",
       "      <td>2019</td>\n",
       "      <td>4894</td>\n",
       "      <td>14.920732</td>\n",
       "    </tr>\n",
       "  </tbody>\n",
       "</table>\n",
       "<p>3 rows × 24 columns</p>\n",
       "</div>"
      ],
      "text/plain": [
       "              Unit price               Quantity                Tax 5%  \\\n",
       "                     sum          mean      sum      mean         sum   \n",
       "City                                                                    \n",
       "Abuja          6652396.8  20037.339759     1820  5.481928  1820531.52   \n",
       "Lagos          6705176.4  19721.107059     1859  5.467647  1820577.78   \n",
       "Port Harcourt  6684393.6  20379.248780     1831  5.582317  1895463.54   \n",
       "\n",
       "                                  Total                       cogs  \\\n",
       "                      mean          sum           mean         sum   \n",
       "City                                                                 \n",
       "Abuja          5483.528675  38231161.92  115154.102169  36410630.4   \n",
       "Lagos          5354.640529  38232133.38  112447.451118  36411555.6   \n",
       "Port Harcourt  5778.852256  39804734.34  121355.897378  37909270.8   \n",
       "\n",
       "                              ...  Rating             Day            Month  \\\n",
       "                        mean  ...     sum      mean   sum       mean   sum   \n",
       "City                          ...                                            \n",
       "Abuja          109670.573494  ...  2263.6  6.818072  5068  15.265060   665   \n",
       "Lagos          107092.810588  ...  2389.2  7.027059  5232  15.388235   688   \n",
       "Port Harcourt  115577.045122  ...  2319.9  7.072866  4956  15.109756   640   \n",
       "\n",
       "                           Year        Hour             \n",
       "                   mean     sum  mean   sum       mean  \n",
       "City                                                    \n",
       "Abuja          2.003012  670308  2019  5029  15.147590  \n",
       "Lagos          2.023529  686460  2019  4987  14.667647  \n",
       "Port Harcourt  1.951220  662232  2019  4894  14.920732  \n",
       "\n",
       "[3 rows x 24 columns]"
      ]
     },
     "execution_count": 41,
     "metadata": {},
     "output_type": "execute_result"
    }
   ],
   "source": [
    "#[Write your Code Here]\n",
    "data.groupby('City').agg(['sum', 'mean'])"
   ]
  },
  {
   "cell_type": "markdown",
   "metadata": {},
   "source": [
    "#### To-Do - Using the groupby object, display a table that shows the gross income of each city, and determine the city with the highest total gross income."
   ]
  },
  {
   "cell_type": "code",
   "execution_count": 42,
   "metadata": {},
   "outputs": [
    {
     "data": {
      "text/plain": [
       "City\n",
       "Abuja            1820531.52\n",
       "Lagos            1820577.78\n",
       "Port Harcourt    1895463.54\n",
       "Name: gross income, dtype: float64"
      ]
     },
     "execution_count": 42,
     "metadata": {},
     "output_type": "execute_result"
    }
   ],
   "source": [
    "#[Write your Code Here]\n",
    "data.groupby(\"City\")['gross income'].sum()"
   ]
  },
  {
   "cell_type": "code",
   "execution_count": 43,
   "metadata": {},
   "outputs": [
    {
     "data": {
      "text/plain": [
       "1895463.539999999"
      ]
     },
     "execution_count": 43,
     "metadata": {},
     "output_type": "execute_result"
    }
   ],
   "source": [
    "# [Write your Answer Here]\n",
    "data.groupby(\"City\")['gross income'].sum().max()"
   ]
  },
  {
   "cell_type": "raw",
   "metadata": {},
   "source": [
    "From the answer above, we can conclude that Port-Harcourt has the highest total gross income with a value of 1895463.54 followed by Lagos, 1820577.78 then Abuja with a value of 1820531.52."
   ]
  },
  {
   "cell_type": "code",
   "execution_count": 37,
   "metadata": {},
   "outputs": [],
   "source": [
    "# Optional - You can explore other columns such as \"Unit Price\", \"Quantity\" etc. "
   ]
  },
  {
   "cell_type": "code",
   "execution_count": 46,
   "metadata": {},
   "outputs": [
    {
     "data": {
      "text/plain": [
       "City\n",
       "Abuja            6652396.8\n",
       "Lagos            6705176.4\n",
       "Port Harcourt    6684393.6\n",
       "Name: Unit price, dtype: float64"
      ]
     },
     "execution_count": 46,
     "metadata": {},
     "output_type": "execute_result"
    }
   ],
   "source": [
    "data.groupby(\"City\")['Unit price'].sum()"
   ]
  },
  {
   "cell_type": "code",
   "execution_count": 44,
   "metadata": {
    "scrolled": true
   },
   "outputs": [
    {
     "data": {
      "text/plain": [
       "6705176.3999999985"
      ]
     },
     "execution_count": 44,
     "metadata": {},
     "output_type": "execute_result"
    }
   ],
   "source": [
    "data.groupby(\"City\")['Unit price'].sum().max()"
   ]
  },
  {
   "cell_type": "code",
   "execution_count": 47,
   "metadata": {},
   "outputs": [
    {
     "data": {
      "text/plain": [
       "City\n",
       "Abuja            1820\n",
       "Lagos            1859\n",
       "Port Harcourt    1831\n",
       "Name: Quantity, dtype: int64"
      ]
     },
     "execution_count": 47,
     "metadata": {},
     "output_type": "execute_result"
    }
   ],
   "source": [
    "data.groupby(\"City\")['Quantity'].sum()"
   ]
  },
  {
   "cell_type": "code",
   "execution_count": 45,
   "metadata": {
    "scrolled": true
   },
   "outputs": [
    {
     "data": {
      "text/plain": [
       "1859"
      ]
     },
     "execution_count": 45,
     "metadata": {},
     "output_type": "execute_result"
    }
   ],
   "source": [
    "data.groupby(\"City\")['Quantity'].sum().max()"
   ]
  },
  {
   "cell_type": "raw",
   "metadata": {},
   "source": [
    "From the information above, we can conclude that Lagos has the highest unit price of 6705176.4 and quantity of 1859"
   ]
  },
  {
   "cell_type": "markdown",
   "metadata": {},
   "source": [
    "## Step 6 - Data Visualization"
   ]
  },
  {
   "cell_type": "markdown",
   "metadata": {},
   "source": [
    "In this section, you will provide answer to some questions by generating charts and making use of different plotting styles. You will use the `Seaborn visualization` library to generate your plots. For all visualizations, include a chart title by using the seaborn `set_title` method"
   ]
  },
  {
   "cell_type": "markdown",
   "metadata": {},
   "source": [
    "#### To-Do- Using `countplot`, determine the branch with the highest sales record. Optional - You can extend this to determine - most used payment method, city with the most sales"
   ]
  },
  {
   "cell_type": "code",
   "execution_count": 48,
   "metadata": {
    "scrolled": true
   },
   "outputs": [
    {
     "data": {
      "image/png": "[encoded data removed]",
      "text/plain": [
       "<Figure size 432x288 with 1 Axes>"
      ]
     },
     "metadata": {
      "needs_background": "light"
     },
     "output_type": "display_data"
    }
   ],
   "source": [
    "#[Write your Code Here]\n",
    "sns.barplot(x='Branch', y = 'Total', hue ='Gender', data=data)\n",
    "plt.title(\"Branch with Highest Sales record\", fontsize=15)\n",
    "plt.show()"
   ]
  },
  {
   "cell_type": "markdown",
   "metadata": {},
   "source": [
    "The chart above shows that Branch C(Port-Harcourt) has the  highest sales with female having the higher value"
   ]
  },
  {
   "cell_type": "code",
   "execution_count": 49,
   "metadata": {
    "scrolled": true
   },
   "outputs": [
    {
     "data": {
      "text/plain": [
       "Text(0.5, 1.0, 'Customer Type with highest Sales in different Branch')"
      ]
     },
     "execution_count": 49,
     "metadata": {},
     "output_type": "execute_result"
    },
    {
     "data": {
      "image/png": "[encoded data removed]",
      "text/plain": [
       "<Figure size 432x288 with 1 Axes>"
      ]
     },
     "metadata": {
      "needs_background": "light"
     },
     "output_type": "display_data"
    }
   ],
   "source": [
    "sns.barplot(x='Branch', y = 'Total', hue ='Customer type', data=data)\n",
    "plt.title(\"Customer Type with highest Sales in different Branch\", fontsize=12)"
   ]
  },
  {
   "cell_type": "markdown",
   "metadata": {},
   "source": [
    "In Branch C, normal member that patronised the supermarket has increased in population compared to  the register Member. we suggest that they should continue with the step taken to get all these attention and introduce those steps to other branch as well."
   ]
  },
  {
   "cell_type": "markdown",
   "metadata": {},
   "source": [
    "#### Explore a countplot for the `Payment` and `City` Column"
   ]
  },
  {
   "cell_type": "code",
   "execution_count": 50,
   "metadata": {},
   "outputs": [
    {
     "data": {
      "text/plain": [
       "Text(0.5, 1.0, 'Highest Payment Method')"
      ]
     },
     "execution_count": 50,
     "metadata": {},
     "output_type": "execute_result"
    },
    {
     "data": {
      "image/png": "[encoded data removed]",
      "text/plain": [
       "<Figure size 432x288 with 1 Axes>"
      ]
     },
     "metadata": {
      "needs_background": "light"
     },
     "output_type": "display_data"
    }
   ],
   "source": [
    "sns.countplot('Payment', data=data)\n",
    "plt.title(\"Highest Payment Method\", fontsize=15)"
   ]
  },
  {
   "cell_type": "code",
   "execution_count": 51,
   "metadata": {},
   "outputs": [
    {
     "data": {
      "text/plain": [
       "Text(0.5, 1.0, 'showing the 3 different cities')"
      ]
     },
     "execution_count": 51,
     "metadata": {},
     "output_type": "execute_result"
    },
    {
     "data": {
      "image/png": "[encoded data removed]",
      "text/plain": [
       "<Figure size 432x288 with 1 Axes>"
      ]
     },
     "metadata": {
      "needs_background": "light"
     },
     "output_type": "display_data"
    }
   ],
   "source": [
    "sns.countplot('City', data=data)\n",
    "plt.title(\"showing the 3 different cities\", fontsize=15)"
   ]
  },
  {
   "cell_type": "code",
   "execution_count": 52,
   "metadata": {},
   "outputs": [
    {
     "data": {
      "text/plain": [
       "Text(0.5, 1.0, '3 different cities with payment method')"
      ]
     },
     "execution_count": 52,
     "metadata": {},
     "output_type": "execute_result"
    },
    {
     "data": {
      "image/png": "[encoded data removed]",
      "text/plain": [
       "<Figure size 432x288 with 1 Axes>"
      ]
     },
     "metadata": {
      "needs_background": "light"
     },
     "output_type": "display_data"
    }
   ],
   "source": [
    "sns.countplot('City', data=data, hue='Payment')\n",
    "plt.title(\"3 different cities with payment method\", fontsize=15)"
   ]
  },
  {
   "cell_type": "markdown",
   "metadata": {},
   "source": [
    "#### To-Do - Determine the highest & lowest sold product line, using Countplot \n",
    "Count Plot Tips- Set the `Product line` column to y-axis to prevent congestion on the x-axis"
   ]
  },
  {
   "cell_type": "code",
   "execution_count": 53,
   "metadata": {
    "scrolled": true
   },
   "outputs": [
    {
     "data": {
      "text/plain": [
       "Text(0.5, 1.0, 'Displaying different products')"
      ]
     },
     "execution_count": 53,
     "metadata": {},
     "output_type": "execute_result"
    },
    {
     "data": {
      "image/png": "[encoded data removed]",
      "text/plain": [
       "<Figure size 432x288 with 1 Axes>"
      ]
     },
     "metadata": {
      "needs_background": "light"
     },
     "output_type": "display_data"
    }
   ],
   "source": [
    "#[Write your Code Here]\n",
    "sns.countplot(y = \"Product line\", data=data)\n",
    "plt.title(\"Displaying different products\")"
   ]
  },
  {
   "cell_type": "markdown",
   "metadata": {},
   "source": [
    "Fashion accessories has the highest product with the value of 178, followed by food and beverages"
   ]
  },
  {
   "cell_type": "markdown",
   "metadata": {},
   "source": [
    "#### To-Do -  Determine the Payment channel used by most customer to pay for each product line. Count Plot Tips- Set the \"product line\" column to y-axis to prevent congestion on the x-axis, and use the \"hue\" parameter for the \"Payment\" column. "
   ]
  },
  {
   "cell_type": "code",
   "execution_count": 54,
   "metadata": {},
   "outputs": [
    {
     "data": {
      "text/plain": [
       "Text(0.5, 1.0, 'Displaying payment channel used by customer for each product')"
      ]
     },
     "execution_count": 54,
     "metadata": {},
     "output_type": "execute_result"
    },
    {
     "data": {
      "image/png": "[encoded data removed]",
      "text/plain": [
       "<Figure size 432x288 with 1 Axes>"
      ]
     },
     "metadata": {
      "needs_background": "light"
     },
     "output_type": "display_data"
    }
   ],
   "source": [
    "#[Write your Code Here]\n",
    "sns.countplot(y='Product line', data=data, hue='Payment')\n",
    "plt.title(\"Displaying payment channel used by customer for each product\", fontsize=15)"
   ]
  },
  {
   "cell_type": "markdown",
   "metadata": {},
   "source": [
    "#### To-Do- Determine the Payment channel for each branch.\n",
    "Count Plot Tips - Use the hue parameter for the \"branch\" column"
   ]
  },
  {
   "cell_type": "code",
   "execution_count": 55,
   "metadata": {},
   "outputs": [
    {
     "data": {
      "text/plain": [
       "Text(0.5, 1.0, 'Displaying payment channel used in different branches')"
      ]
     },
     "execution_count": 55,
     "metadata": {},
     "output_type": "execute_result"
    },
    {
     "data": {
      "image/png": "[encoded data removed]",
      "text/plain": [
       "<Figure size 432x288 with 1 Axes>"
      ]
     },
     "metadata": {
      "needs_background": "light"
     },
     "output_type": "display_data"
    }
   ],
   "source": [
    "#[Write your Code Here]\n",
    "sns.countplot('Payment', hue='Branch', data=data)\n",
    "plt.title(\"Displaying payment channel used in different branches\", fontsize=15)"
   ]
  },
  {
   "cell_type": "markdown",
   "metadata": {},
   "source": [
    "#### To-Do- Determine the branch with the lowest rating. This you can determine using abox plot which gives a statistical summary of the plotted features, and you can pick out the branch with the lowest rating from the plot"
   ]
  },
  {
   "cell_type": "code",
   "execution_count": 57,
   "metadata": {
    "scrolled": true
   },
   "outputs": [
    {
     "data": {
      "text/plain": [
       "Text(0.5, 1.0, 'Showing different branches and thier rating level')"
      ]
     },
     "execution_count": 57,
     "metadata": {},
     "output_type": "execute_result"
    },
    {
     "data": {
      "image/png": "[encoded data removed]",
      "text/plain": [
       "<Figure size 432x288 with 1 Axes>"
      ]
     },
     "metadata": {
      "needs_background": "light"
     },
     "output_type": "display_data"
    }
   ],
   "source": [
    "#[Write your Code Here]\n",
    "sns.boxplot(x=\"Branch\", y=\"Rating\", data=data, palette=\"Set3\")\n",
    "plt.title(\"Showing different branches and thier rating level\", fontsize=15)"
   ]
  },
  {
   "cell_type": "raw",
   "metadata": {},
   "source": [
    "#[Write your answer here]\n",
    "From the boxplot shown above, the lowest rating Branch is Branch B(Abuja) which is about 5.2 points"
   ]
  },
  {
   "cell_type": "markdown",
   "metadata": {},
   "source": [
    "#### To-Do - The gender type often affects the kind of products being purchased at the supermarket. \n",
    "* Using a catplot() generate visualization for the \"product line\" on x-axis, quantity on the y-axis, and hue as gender. \n",
    "<br/>\n",
    "\n",
    "#### Set the aspect parameter to 4, so can you can effectively space out each product line. \n",
    "\n",
    "\n",
    "\n",
    "* Plot the same chart, but `Total Column` as the y-axis\n",
    "\n",
    "* Write a summary of the insights you can pick from this chart."
   ]
  },
  {
   "cell_type": "code",
   "execution_count": 58,
   "metadata": {
    "scrolled": true
   },
   "outputs": [
    {
     "data": {
      "text/plain": [
       "(array([0, 1, 2, 3, 4, 5]),\n",
       " [Text(0, 0, 'Food and beverages'),\n",
       "  Text(1, 0, 'Fashion accessories'),\n",
       "  Text(2, 0, 'Electronic accessories'),\n",
       "  Text(3, 0, 'Sports and travel'),\n",
       "  Text(4, 0, 'Home and lifestyle'),\n",
       "  Text(5, 0, 'Health and beauty')])"
      ]
     },
     "execution_count": 58,
     "metadata": {},
     "output_type": "execute_result"
    },
    {
     "data": {
      "image/png": "[encoded data removed]",
      "text/plain": [
       "<Figure size 720.125x360 with 1 Axes>"
      ]
     },
     "metadata": {
      "needs_background": "light"
     },
     "output_type": "display_data"
    }
   ],
   "source": [
    "#[Write your Code Here]\n",
    "sns.catplot(x = 'Product line', y = 'Quantity', hue='Gender', data=data, aspect=4, kind='bar')\n",
    "plt.title(\"Product_line and Quantity\", fontsize=15)\n",
    "plt.xticks(rotation=90)"
   ]
  },
  {
   "cell_type": "markdown",
   "metadata": {},
   "source": [
    "The catplot above showed that `female` purchased all Product_line than `male` except for `health and beauty product`."
   ]
  },
  {
   "cell_type": "code",
   "execution_count": 59,
   "metadata": {
    "scrolled": true
   },
   "outputs": [
    {
     "data": {
      "text/plain": [
       "(array([0, 1, 2, 3, 4, 5]),\n",
       " [Text(0, 0, 'Food and beverages'),\n",
       "  Text(1, 0, 'Fashion accessories'),\n",
       "  Text(2, 0, 'Electronic accessories'),\n",
       "  Text(3, 0, 'Sports and travel'),\n",
       "  Text(4, 0, 'Home and lifestyle'),\n",
       "  Text(5, 0, 'Health and beauty')])"
      ]
     },
     "execution_count": 59,
     "metadata": {},
     "output_type": "execute_result"
    },
    {
     "data": {
      "image/png": "[encoded data removed]",
      "text/plain": [
       "<Figure size 720.125x360 with 1 Axes>"
      ]
     },
     "metadata": {
      "needs_background": "light"
     },
     "output_type": "display_data"
    }
   ],
   "source": [
    "#[Write your Code Here]\n",
    "sns.catplot(x = 'Product line', y = 'Total', hue='Gender', data=data, aspect=4, kind='bar')\n",
    "plt.title(\"Product_line and Total\", fontsize=15)\n",
    "plt.xticks(rotation = 90)"
   ]
  },
  {
   "cell_type": "markdown",
   "metadata": {},
   "source": [
    "`Female` has the highest `total price` for all product except for `health and beauty`, and `sport and travel` where male has the highest total price"
   ]
  },
  {
   "cell_type": "markdown",
   "metadata": {},
   "source": [
    "#### To-Do -  An interesting insight to explore is the interaction of Unit price on the Quantity of goods purchased. To achieve this: \n",
    "* Use the `catplot()` to plot `Product line per unit price`, and `Product line per Quantity`. Set the kind parameter to `point` \n",
    "* In a new cell, Write a summary of the insights you uncovered"
   ]
  },
  {
   "cell_type": "code",
   "execution_count": 60,
   "metadata": {
    "scrolled": true
   },
   "outputs": [
    {
     "data": {
      "text/plain": [
       "(array([0, 1, 2, 3, 4, 5]),\n",
       " [Text(0, 0, 'Food and beverages'),\n",
       "  Text(1, 0, 'Fashion accessories'),\n",
       "  Text(2, 0, 'Electronic accessories'),\n",
       "  Text(3, 0, 'Sports and travel'),\n",
       "  Text(4, 0, 'Home and lifestyle'),\n",
       "  Text(5, 0, 'Health and beauty')])"
      ]
     },
     "execution_count": 60,
     "metadata": {},
     "output_type": "execute_result"
    },
    {
     "data": {
      "image/png": "[encoded data removed]",
      "text/plain": [
       "<Figure size 540x360 with 1 Axes>"
      ]
     },
     "metadata": {
      "needs_background": "light"
     },
     "output_type": "display_data"
    }
   ],
   "source": [
    "#[Write your Code Here]\n",
    "sns.catplot(x='Product line', y = 'Unit price', data=data, aspect=1.5, kind='point')\n",
    "plt.xticks(rotation=45)"
   ]
  },
  {
   "cell_type": "markdown",
   "metadata": {},
   "source": [
    "`Electronic accessories` has the `lowest` unit price while `fashion accessories` has the `highest` unit price, followed by `Sports and travel`. "
   ]
  },
  {
   "cell_type": "code",
   "execution_count": 61,
   "metadata": {
    "scrolled": true
   },
   "outputs": [
    {
     "data": {
      "text/plain": [
       "(array([0, 1, 2, 3, 4, 5]),\n",
       " [Text(0, 0, 'Food and beverages'),\n",
       "  Text(1, 0, 'Fashion accessories'),\n",
       "  Text(2, 0, 'Electronic accessories'),\n",
       "  Text(3, 0, 'Sports and travel'),\n",
       "  Text(4, 0, 'Home and lifestyle'),\n",
       "  Text(5, 0, 'Health and beauty')])"
      ]
     },
     "execution_count": 61,
     "metadata": {},
     "output_type": "execute_result"
    },
    {
     "data": {
      "image/png": "[encoded data removed]",
      "text/plain": [
       "<Figure size 540x360 with 1 Axes>"
      ]
     },
     "metadata": {
      "needs_background": "light"
     },
     "output_type": "display_data"
    }
   ],
   "source": [
    "sns.catplot(x='Product line', y = 'Quantity', data=data, aspect=1.5, kind='point')\n",
    "plt.xticks(rotation=90)"
   ]
  },
  {
   "cell_type": "markdown",
   "metadata": {},
   "source": [
    "`Fashion accessories` has the lowest quantity while `Electronic accessories` has the highest quantity."
   ]
  },
  {
   "cell_type": "code",
   "execution_count": 93,
   "metadata": {},
   "outputs": [
    {
     "data": {
      "text/plain": [
       "(array([0, 1, 2, 3, 4, 5]),\n",
       " [Text(0, 0, 'Food and beverages'),\n",
       "  Text(1, 0, 'Fashion accessories'),\n",
       "  Text(2, 0, 'Electronic accessories'),\n",
       "  Text(3, 0, 'Sports and travel'),\n",
       "  Text(4, 0, 'Home and lifestyle'),\n",
       "  Text(5, 0, 'Health and beauty')])"
      ]
     },
     "execution_count": 93,
     "metadata": {},
     "output_type": "execute_result"
    },
    {
     "data": {
      "image/png": "[encoded data removed]",
      "text/plain": [
       "<Figure size 1491.12x360 with 1 Axes>"
      ]
     },
     "metadata": {
      "needs_background": "light"
     },
     "output_type": "display_data"
    }
   ],
   "source": [
    "sns.catplot(x='Product line', y = 'Unit price', hue = 'Quantity', data=data, aspect=4.0, kind='point')\n",
    "plt.xticks(rotation=45)"
   ]
  },
  {
   "cell_type": "code",
   "execution_count": 54,
   "metadata": {},
   "outputs": [],
   "source": [
    "#[Write your Code Here]"
   ]
  },
  {
   "cell_type": "markdown",
   "metadata": {},
   "source": [
    "## Step 7 - StandOut Section\n",
    "To make your submission standout, \n",
    "* You can continue to explore more insights that can be uncovered with different plotting methods.\n",
    "* Write a detailed summary on your approach, methods and insights. \n",
    "* Visit the [link](https://seaborn.pydata.org/tutorial/categorical.html) for more Seaborn visualization plots.\n"
   ]
  },
  {
   "cell_type": "code",
   "execution_count": 94,
   "metadata": {
    "scrolled": true
   },
   "outputs": [
    {
     "data": {
      "text/plain": [
       "(array([0, 1, 2, 3, 4, 5]),\n",
       " [Text(0, 0, 'Food and beverages'),\n",
       "  Text(1, 0, 'Fashion accessories'),\n",
       "  Text(2, 0, 'Electronic accessories'),\n",
       "  Text(3, 0, 'Sports and travel'),\n",
       "  Text(4, 0, 'Home and lifestyle'),\n",
       "  Text(5, 0, 'Health and beauty')])"
      ]
     },
     "execution_count": 94,
     "metadata": {},
     "output_type": "execute_result"
    },
    {
     "data": {
      "image/png": "[encoded data removed]",
      "text/plain": [
       "<Figure size 1440x360 with 1 Axes>"
      ]
     },
     "metadata": {
      "needs_background": "light"
     },
     "output_type": "display_data"
    }
   ],
   "source": [
    "sns.catplot(x = 'Product line', y = 'Total', data=data, aspect=4, kind='point')\n",
    "plt.title(\"Product_line and Total\", fontsize=15)\n",
    "plt.xticks(rotation=90)"
   ]
  },
  {
   "cell_type": "markdown",
   "metadata": {},
   "source": [
    "This chart showed that Home and lifestyle product has the highest total price, followed by sports and travel"
   ]
  },
  {
   "cell_type": "code",
   "execution_count": 91,
   "metadata": {},
   "outputs": [
    {
     "data": {
      "application/vnd.plotly.v1+json": {
       "config": {
        "plotlyServerURL": "https://plot.ly"
       },
       "data": [
        {
         "hovertemplate": "Product line=%{x}<br>Total=%{y}<extra></extra>",
         "legendgroup": "",
         "line": {
          "color": "#636efa"
         },
         "mode": "lines",
         "name": "",
         "orientation": "v",
         "showlegend": false,
         "stackgroup": "1",
         "type": "scatter",
         "x": [
          "Food and beverages",
          "Fashion accessories",
          "Electronic accessories",
          "Sports and travel",
          "Home and lifestyle",
          "Health and beauty",
          "Home and lifestyle",
          "Fashion accessories",
          "Food and beverages",
          "Fashion accessories",
          "Sports and travel",
          "Sports and travel",
          "Home and lifestyle",
          "Home and lifestyle",
          "Sports and travel",
          "Electronic accessories",
          "Health and beauty",
          "Food and beverages",
          "Electronic accessories",
          "Fashion accessories",
          "Home and lifestyle",
          "Sports and travel",
          "Health and beauty",
          "Fashion accessories",
          "Food and beverages",
          "Food and beverages",
          "Health and beauty",
          "Health and beauty",
          "Health and beauty",
          "Home and lifestyle",
          "Health and beauty",
          "Sports and travel",
          "Fashion accessories",
          "Fashion accessories",
          "Fashion accessories",
          "Home and lifestyle",
          "Sports and travel",
          "Fashion accessories",
          "Sports and travel",
          "Fashion accessories",
          "Sports and travel",
          "Electronic accessories",
          "Sports and travel",
          "Home and lifestyle",
          "Fashion accessories",
          "Electronic accessories",
          "Home and lifestyle",
          "Health and beauty",
          "Sports and travel",
          "Food and beverages",
          "Health and beauty",
          "Food and beverages",
          "Electronic accessories",
          "Food and beverages",
          "Food and beverages",
          "Home and lifestyle",
          "Home and lifestyle",
          "Home and lifestyle",
          "Fashion accessories",
          "Home and lifestyle",
          "Electronic accessories",
          "Health and beauty",
          "Home and lifestyle",
          "Fashion accessories",
          "Electronic accessories",
          "Home and lifestyle",
          "Sports and travel",
          "Sports and travel",
          "Sports and travel",
          "Fashion accessories",
          "Food and beverages",
          "Electronic accessories",
          "Food and beverages",
          "Health and beauty",
          "Electronic accessories",
          "Fashion accessories",
          "Electronic accessories",
          "Health and beauty",
          "Fashion accessories",
          "Electronic accessories",
          "Home and lifestyle",
          "Electronic accessories",
          "Food and beverages",
          "Food and beverages",
          "Fashion accessories",
          "Fashion accessories",
          "Sports and travel",
          "Food and beverages",
          "Sports and travel",
          "Health and beauty",
          "Fashion accessories",
          "Health and beauty",
          "Food and beverages",
          "Electronic accessories",
          "Health and beauty",
          "Health and beauty",
          "Electronic accessories",
          "Sports and travel",
          "Sports and travel",
          "Health and beauty",
          "Home and lifestyle",
          "Sports and travel",
          "Food and beverages",
          "Electronic accessories",
          "Health and beauty",
          "Health and beauty",
          "Health and beauty",
          "Fashion accessories",
          "Home and lifestyle",
          "Food and beverages",
          "Electronic accessories",
          "Sports and travel",
          "Electronic accessories",
          "Fashion accessories",
          "Home and lifestyle",
          "Electronic accessories",
          "Food and beverages",
          "Sports and travel",
          "Food and beverages",
          "Fashion accessories",
          "Home and lifestyle",
          "Health and beauty",
          "Electronic accessories",
          "Fashion accessories",
          "Fashion accessories",
          "Health and beauty",
          "Sports and travel",
          "Health and beauty",
          "Health and beauty",
          "Fashion accessories",
          "Fashion accessories",
          "Food and beverages",
          "Sports and travel",
          "Fashion accessories",
          "Fashion accessories",
          "Fashion accessories",
          "Sports and travel",
          "Health and beauty",
          "Health and beauty",
          "Sports and travel",
          "Electronic accessories",
          "Electronic accessories",
          "Fashion accessories",
          "Food and beverages",
          "Electronic accessories",
          "Food and beverages",
          "Sports and travel",
          "Health and beauty",
          "Sports and travel",
          "Home and lifestyle",
          "Sports and travel",
          "Fashion accessories",
          "Home and lifestyle",
          "Fashion accessories",
          "Health and beauty",
          "Fashion accessories",
          "Sports and travel",
          "Sports and travel",
          "Sports and travel",
          "Sports and travel",
          "Sports and travel",
          "Sports and travel",
          "Food and beverages",
          "Health and beauty",
          "Sports and travel",
          "Health and beauty",
          "Electronic accessories",
          "Fashion accessories",
          "Fashion accessories",
          "Food and beverages",
          "Electronic accessories",
          "Fashion accessories",
          "Sports and travel",
          "Food and beverages",
          "Home and lifestyle",
          "Sports and travel",
          "Fashion accessories",
          "Fashion accessories",
          "Health and beauty",
          "Home and lifestyle",
          "Fashion accessories",
          "Electronic accessories",
          "Electronic accessories",
          "Fashion accessories",
          "Fashion accessories",
          "Home and lifestyle",
          "Sports and travel",
          "Food and beverages",
          "Fashion accessories",
          "Food and beverages",
          "Health and beauty",
          "Fashion accessories",
          "Sports and travel",
          "Sports and travel",
          "Health and beauty",
          "Sports and travel",
          "Home and lifestyle",
          "Food and beverages",
          "Fashion accessories",
          "Sports and travel",
          "Home and lifestyle",
          "Fashion accessories",
          "Fashion accessories",
          "Food and beverages",
          "Health and beauty",
          "Home and lifestyle",
          "Food and beverages",
          "Health and beauty",
          "Food and beverages",
          "Fashion accessories",
          "Food and beverages",
          "Electronic accessories",
          "Fashion accessories",
          "Electronic accessories",
          "Health and beauty",
          "Sports and travel",
          "Fashion accessories",
          "Sports and travel",
          "Fashion accessories",
          "Food and beverages",
          "Health and beauty",
          "Sports and travel",
          "Food and beverages",
          "Health and beauty",
          "Fashion accessories",
          "Sports and travel",
          "Electronic accessories",
          "Sports and travel",
          "Sports and travel",
          "Home and lifestyle",
          "Sports and travel",
          "Home and lifestyle",
          "Food and beverages",
          "Fashion accessories",
          "Health and beauty",
          "Home and lifestyle",
          "Health and beauty",
          "Electronic accessories",
          "Fashion accessories",
          "Fashion accessories",
          "Home and lifestyle",
          "Food and beverages",
          "Sports and travel",
          "Home and lifestyle",
          "Electronic accessories",
          "Food and beverages",
          "Electronic accessories",
          "Fashion accessories",
          "Home and lifestyle",
          "Fashion accessories",
          "Home and lifestyle",
          "Electronic accessories",
          "Food and beverages",
          "Electronic accessories",
          "Home and lifestyle",
          "Sports and travel",
          "Electronic accessories",
          "Sports and travel",
          "Food and beverages",
          "Sports and travel",
          "Electronic accessories",
          "Home and lifestyle",
          "Fashion accessories",
          "Health and beauty",
          "Sports and travel",
          "Electronic accessories",
          "Health and beauty",
          "Health and beauty",
          "Food and beverages",
          "Health and beauty",
          "Food and beverages",
          "Electronic accessories",
          "Sports and travel",
          "Health and beauty",
          "Health and beauty",
          "Sports and travel",
          "Home and lifestyle",
          "Sports and travel",
          "Electronic accessories",
          "Electronic accessories",
          "Fashion accessories",
          "Food and beverages",
          "Health and beauty",
          "Home and lifestyle",
          "Home and lifestyle",
          "Sports and travel",
          "Electronic accessories",
          "Electronic accessories",
          "Electronic accessories",
          "Food and beverages",
          "Sports and travel",
          "Electronic accessories",
          "Electronic accessories",
          "Electronic accessories",
          "Health and beauty",
          "Home and lifestyle",
          "Health and beauty",
          "Home and lifestyle",
          "Food and beverages",
          "Home and lifestyle",
          "Electronic accessories",
          "Home and lifestyle",
          "Electronic accessories",
          "Sports and travel",
          "Electronic accessories",
          "Sports and travel",
          "Home and lifestyle",
          "Home and lifestyle",
          "Fashion accessories",
          "Food and beverages",
          "Health and beauty",
          "Home and lifestyle",
          "Food and beverages",
          "Home and lifestyle",
          "Electronic accessories",
          "Food and beverages",
          "Electronic accessories",
          "Electronic accessories",
          "Food and beverages",
          "Home and lifestyle",
          "Electronic accessories",
          "Fashion accessories",
          "Food and beverages",
          "Electronic accessories",
          "Food and beverages",
          "Fashion accessories",
          "Health and beauty",
          "Health and beauty",
          "Health and beauty",
          "Sports and travel",
          "Fashion accessories",
          "Home and lifestyle",
          "Health and beauty",
          "Home and lifestyle",
          "Health and beauty",
          "Sports and travel",
          "Electronic accessories",
          "Health and beauty",
          "Electronic accessories",
          "Food and beverages",
          "Health and beauty",
          "Health and beauty",
          "Sports and travel",
          "Food and beverages",
          "Electronic accessories",
          "Sports and travel",
          "Home and lifestyle",
          "Fashion accessories",
          "Health and beauty",
          "Health and beauty",
          "Sports and travel",
          "Electronic accessories",
          "Food and beverages",
          "Home and lifestyle",
          "Health and beauty",
          "Home and lifestyle",
          "Sports and travel",
          "Health and beauty",
          "Sports and travel",
          "Health and beauty",
          "Home and lifestyle",
          "Fashion accessories",
          "Food and beverages",
          "Sports and travel",
          "Sports and travel",
          "Electronic accessories",
          "Food and beverages",
          "Food and beverages",
          "Electronic accessories",
          "Sports and travel",
          "Home and lifestyle",
          "Food and beverages",
          "Electronic accessories",
          "Home and lifestyle",
          "Sports and travel",
          "Sports and travel",
          "Electronic accessories",
          "Home and lifestyle",
          "Sports and travel",
          "Home and lifestyle",
          "Fashion accessories",
          "Health and beauty",
          "Fashion accessories",
          "Food and beverages",
          "Sports and travel",
          "Food and beverages",
          "Fashion accessories",
          "Food and beverages",
          "Sports and travel",
          "Health and beauty",
          "Home and lifestyle",
          "Food and beverages",
          "Food and beverages",
          "Sports and travel",
          "Sports and travel",
          "Home and lifestyle",
          "Electronic accessories",
          "Home and lifestyle",
          "Health and beauty",
          "Electronic accessories",
          "Home and lifestyle",
          "Electronic accessories",
          "Food and beverages",
          "Home and lifestyle",
          "Health and beauty",
          "Sports and travel",
          "Fashion accessories",
          "Food and beverages",
          "Health and beauty",
          "Home and lifestyle",
          "Home and lifestyle",
          "Fashion accessories",
          "Electronic accessories",
          "Home and lifestyle",
          "Home and lifestyle",
          "Electronic accessories",
          "Home and lifestyle",
          "Electronic accessories",
          "Electronic accessories",
          "Sports and travel",
          "Sports and travel",
          "Home and lifestyle",
          "Home and lifestyle",
          "Home and lifestyle",
          "Home and lifestyle",
          "Sports and travel",
          "Home and lifestyle",
          "Sports and travel",
          "Health and beauty",
          "Health and beauty",
          "Home and lifestyle",
          "Electronic accessories",
          "Food and beverages",
          "Home and lifestyle",
          "Home and lifestyle",
          "Electronic accessories",
          "Electronic accessories",
          "Sports and travel",
          "Home and lifestyle",
          "Electronic accessories",
          "Fashion accessories",
          "Food and beverages",
          "Health and beauty",
          "Health and beauty",
          "Fashion accessories",
          "Home and lifestyle",
          "Food and beverages",
          "Electronic accessories",
          "Food and beverages",
          "Fashion accessories",
          "Food and beverages",
          "Electronic accessories",
          "Fashion accessories",
          "Sports and travel",
          "Fashion accessories",
          "Electronic accessories",
          "Electronic accessories",
          "Electronic accessories",
          "Food and beverages",
          "Home and lifestyle",
          "Home and lifestyle",
          "Electronic accessories",
          "Home and lifestyle",
          "Fashion accessories",
          "Sports and travel",
          "Food and beverages",
          "Health and beauty",
          "Electronic accessories",
          "Sports and travel",
          "Health and beauty",
          "Health and beauty",
          "Food and beverages",
          "Sports and travel",
          "Food and beverages",
          "Home and lifestyle",
          "Health and beauty",
          "Sports and travel",
          "Home and lifestyle",
          "Electronic accessories",
          "Health and beauty",
          "Home and lifestyle",
          "Electronic accessories",
          "Home and lifestyle",
          "Home and lifestyle",
          "Sports and travel",
          "Food and beverages",
          "Health and beauty",
          "Electronic accessories",
          "Food and beverages",
          "Sports and travel",
          "Fashion accessories",
          "Electronic accessories",
          "Health and beauty",
          "Sports and travel",
          "Electronic accessories",
          "Sports and travel",
          "Fashion accessories",
          "Fashion accessories",
          "Sports and travel",
          "Electronic accessories",
          "Home and lifestyle",
          "Fashion accessories",
          "Electronic accessories",
          "Home and lifestyle",
          "Home and lifestyle",
          "Food and beverages",
          "Sports and travel",
          "Sports and travel",
          "Health and beauty",
          "Fashion accessories",
          "Home and lifestyle",
          "Home and lifestyle",
          "Fashion accessories",
          "Home and lifestyle",
          "Fashion accessories",
          "Sports and travel",
          "Electronic accessories",
          "Electronic accessories",
          "Food and beverages",
          "Home and lifestyle",
          "Electronic accessories",
          "Food and beverages",
          "Fashion accessories",
          "Food and beverages",
          "Sports and travel",
          "Health and beauty",
          "Health and beauty",
          "Health and beauty",
          "Food and beverages",
          "Sports and travel",
          "Health and beauty",
          "Sports and travel",
          "Sports and travel",
          "Food and beverages",
          "Home and lifestyle",
          "Fashion accessories",
          "Fashion accessories",
          "Electronic accessories",
          "Food and beverages",
          "Sports and travel",
          "Food and beverages",
          "Food and beverages",
          "Food and beverages",
          "Sports and travel",
          "Home and lifestyle",
          "Fashion accessories",
          "Sports and travel",
          "Electronic accessories",
          "Food and beverages",
          "Health and beauty",
          "Home and lifestyle",
          "Home and lifestyle",
          "Electronic accessories",
          "Fashion accessories",
          "Sports and travel",
          "Fashion accessories",
          "Fashion accessories",
          "Fashion accessories",
          "Electronic accessories",
          "Food and beverages",
          "Food and beverages",
          "Fashion accessories",
          "Home and lifestyle",
          "Food and beverages",
          "Health and beauty",
          "Home and lifestyle",
          "Sports and travel",
          "Electronic accessories",
          "Sports and travel",
          "Food and beverages",
          "Health and beauty",
          "Fashion accessories",
          "Electronic accessories",
          "Fashion accessories",
          "Fashion accessories",
          "Health and beauty",
          "Fashion accessories",
          "Home and lifestyle",
          "Sports and travel",
          "Home and lifestyle",
          "Food and beverages",
          "Electronic accessories",
          "Fashion accessories",
          "Home and lifestyle",
          "Food and beverages",
          "Food and beverages",
          "Fashion accessories",
          "Health and beauty",
          "Health and beauty",
          "Home and lifestyle",
          "Sports and travel",
          "Fashion accessories",
          "Electronic accessories",
          "Sports and travel",
          "Fashion accessories",
          "Electronic accessories",
          "Electronic accessories",
          "Sports and travel",
          "Fashion accessories",
          "Home and lifestyle",
          "Sports and travel",
          "Electronic accessories",
          "Electronic accessories",
          "Electronic accessories",
          "Electronic accessories",
          "Food and beverages",
          "Home and lifestyle",
          "Health and beauty",
          "Sports and travel",
          "Fashion accessories",
          "Electronic accessories",
          "Electronic accessories",
          "Health and beauty",
          "Fashion accessories",
          "Fashion accessories",
          "Fashion accessories",
          "Sports and travel",
          "Fashion accessories",
          "Electronic accessories",
          "Electronic accessories",
          "Fashion accessories",
          "Fashion accessories",
          "Fashion accessories",
          "Health and beauty",
          "Home and lifestyle",
          "Food and beverages",
          "Sports and travel",
          "Electronic accessories",
          "Sports and travel",
          "Food and beverages",
          "Sports and travel",
          "Home and lifestyle",
          "Electronic accessories",
          "Home and lifestyle",
          "Food and beverages",
          "Sports and travel",
          "Food and beverages",
          "Electronic accessories",
          "Sports and travel",
          "Food and beverages",
          "Health and beauty",
          "Food and beverages",
          "Food and beverages",
          "Home and lifestyle",
          "Fashion accessories",
          "Food and beverages",
          "Fashion accessories",
          "Health and beauty",
          "Food and beverages",
          "Sports and travel",
          "Health and beauty",
          "Food and beverages",
          "Home and lifestyle",
          "Health and beauty",
          "Health and beauty",
          "Electronic accessories",
          "Fashion accessories",
          "Food and beverages",
          "Electronic accessories",
          "Fashion accessories",
          "Home and lifestyle",
          "Home and lifestyle",
          "Health and beauty",
          "Home and lifestyle",
          "Food and beverages",
          "Health and beauty",
          "Sports and travel",
          "Food and beverages",
          "Electronic accessories",
          "Food and beverages",
          "Home and lifestyle",
          "Fashion accessories",
          "Electronic accessories",
          "Electronic accessories",
          "Home and lifestyle",
          "Electronic accessories",
          "Food and beverages",
          "Sports and travel",
          "Health and beauty",
          "Home and lifestyle",
          "Food and beverages",
          "Health and beauty",
          "Fashion accessories",
          "Food and beverages",
          "Fashion accessories",
          "Electronic accessories",
          "Electronic accessories",
          "Sports and travel",
          "Home and lifestyle",
          "Health and beauty",
          "Food and beverages",
          "Fashion accessories",
          "Electronic accessories",
          "Electronic accessories",
          "Fashion accessories",
          "Food and beverages",
          "Health and beauty",
          "Health and beauty",
          "Food and beverages",
          "Food and beverages",
          "Sports and travel",
          "Sports and travel",
          "Fashion accessories",
          "Home and lifestyle",
          "Sports and travel",
          "Health and beauty",
          "Electronic accessories",
          "Fashion accessories",
          "Fashion accessories",
          "Electronic accessories",
          "Fashion accessories",
          "Food and beverages",
          "Electronic accessories",
          "Health and beauty",
          "Home and lifestyle",
          "Fashion accessories",
          "Sports and travel",
          "Home and lifestyle",
          "Fashion accessories",
          "Food and beverages",
          "Health and beauty",
          "Fashion accessories",
          "Sports and travel",
          "Health and beauty",
          "Health and beauty",
          "Food and beverages",
          "Health and beauty",
          "Health and beauty",
          "Sports and travel",
          "Food and beverages",
          "Sports and travel",
          "Food and beverages",
          "Sports and travel",
          "Home and lifestyle",
          "Electronic accessories",
          "Fashion accessories",
          "Health and beauty",
          "Fashion accessories",
          "Food and beverages",
          "Health and beauty",
          "Home and lifestyle",
          "Food and beverages",
          "Fashion accessories",
          "Health and beauty",
          "Health and beauty",
          "Food and beverages",
          "Sports and travel",
          "Electronic accessories",
          "Electronic accessories",
          "Home and lifestyle",
          "Food and beverages",
          "Electronic accessories",
          "Fashion accessories",
          "Sports and travel",
          "Electronic accessories",
          "Health and beauty",
          "Fashion accessories",
          "Fashion accessories",
          "Fashion accessories",
          "Sports and travel",
          "Electronic accessories",
          "Fashion accessories",
          "Home and lifestyle",
          "Health and beauty",
          "Home and lifestyle",
          "Fashion accessories",
          "Fashion accessories",
          "Home and lifestyle",
          "Home and lifestyle",
          "Sports and travel",
          "Electronic accessories",
          "Electronic accessories",
          "Electronic accessories",
          "Home and lifestyle",
          "Fashion accessories",
          "Food and beverages",
          "Fashion accessories",
          "Electronic accessories",
          "Food and beverages",
          "Food and beverages",
          "Electronic accessories",
          "Health and beauty",
          "Health and beauty",
          "Food and beverages",
          "Health and beauty",
          "Food and beverages",
          "Sports and travel",
          "Electronic accessories",
          "Food and beverages",
          "Home and lifestyle",
          "Fashion accessories",
          "Electronic accessories",
          "Fashion accessories",
          "Sports and travel",
          "Food and beverages",
          "Food and beverages",
          "Food and beverages",
          "Fashion accessories",
          "Electronic accessories",
          "Sports and travel",
          "Home and lifestyle",
          "Fashion accessories",
          "Sports and travel",
          "Fashion accessories",
          "Electronic accessories",
          "Food and beverages",
          "Food and beverages",
          "Fashion accessories",
          "Fashion accessories",
          "Food and beverages",
          "Home and lifestyle",
          "Home and lifestyle",
          "Fashion accessories",
          "Fashion accessories",
          "Home and lifestyle",
          "Health and beauty",
          "Food and beverages",
          "Electronic accessories",
          "Fashion accessories",
          "Fashion accessories",
          "Food and beverages",
          "Sports and travel",
          "Sports and travel",
          "Food and beverages",
          "Electronic accessories",
          "Food and beverages",
          "Fashion accessories",
          "Food and beverages",
          "Fashion accessories",
          "Electronic accessories",
          "Food and beverages",
          "Food and beverages",
          "Sports and travel",
          "Food and beverages",
          "Sports and travel",
          "Health and beauty",
          "Food and beverages",
          "Electronic accessories",
          "Home and lifestyle",
          "Electronic accessories",
          "Food and beverages",
          "Electronic accessories",
          "Sports and travel",
          "Home and lifestyle",
          "Home and lifestyle",
          "Electronic accessories",
          "Food and beverages",
          "Fashion accessories",
          "Home and lifestyle",
          "Home and lifestyle",
          "Sports and travel",
          "Fashion accessories",
          "Home and lifestyle",
          "Sports and travel",
          "Home and lifestyle",
          "Health and beauty",
          "Food and beverages",
          "Home and lifestyle",
          "Food and beverages",
          "Health and beauty",
          "Electronic accessories",
          "Electronic accessories",
          "Food and beverages",
          "Food and beverages",
          "Sports and travel",
          "Sports and travel",
          "Food and beverages",
          "Food and beverages",
          "Fashion accessories",
          "Fashion accessories",
          "Health and beauty",
          "Home and lifestyle",
          "Sports and travel",
          "Fashion accessories",
          "Electronic accessories",
          "Fashion accessories",
          "Food and beverages",
          "Fashion accessories",
          "Food and beverages",
          "Food and beverages",
          "Sports and travel",
          "Electronic accessories",
          "Fashion accessories",
          "Electronic accessories",
          "Electronic accessories",
          "Food and beverages",
          "Electronic accessories",
          "Health and beauty",
          "Sports and travel",
          "Electronic accessories",
          "Electronic accessories",
          "Sports and travel",
          "Food and beverages",
          "Sports and travel",
          "Health and beauty",
          "Health and beauty",
          "Health and beauty",
          "Fashion accessories",
          "Sports and travel",
          "Sports and travel",
          "Food and beverages",
          "Fashion accessories",
          "Food and beverages",
          "Home and lifestyle",
          "Fashion accessories",
          "Food and beverages",
          "Fashion accessories",
          "Home and lifestyle",
          "Electronic accessories",
          "Health and beauty",
          "Fashion accessories",
          "Sports and travel",
          "Food and beverages",
          "Health and beauty",
          "Home and lifestyle",
          "Fashion accessories",
          "Health and beauty",
          "Home and lifestyle",
          "Electronic accessories",
          "Home and lifestyle",
          "Food and beverages",
          "Sports and travel",
          "Food and beverages",
          "Home and lifestyle",
          "Health and beauty",
          "Fashion accessories",
          "Fashion accessories",
          "Health and beauty",
          "Sports and travel",
          "Food and beverages",
          "Food and beverages",
          "Health and beauty",
          "Sports and travel",
          "Health and beauty",
          "Home and lifestyle",
          "Health and beauty",
          "Electronic accessories",
          "Health and beauty",
          "Health and beauty",
          "Health and beauty",
          "Home and lifestyle",
          "Home and lifestyle",
          "Electronic accessories",
          "Fashion accessories",
          "Fashion accessories",
          "Sports and travel",
          "Fashion accessories",
          "Sports and travel",
          "Electronic accessories",
          "Electronic accessories",
          "Sports and travel",
          "Food and beverages",
          "Sports and travel",
          "Food and beverages",
          "Health and beauty",
          "Home and lifestyle",
          "Health and beauty",
          "Health and beauty",
          "Food and beverages",
          "Fashion accessories",
          "Home and lifestyle",
          "Fashion accessories",
          "Fashion accessories",
          "Fashion accessories",
          "Health and beauty",
          "Fashion accessories",
          "Fashion accessories",
          "Food and beverages",
          "Health and beauty",
          "Electronic accessories",
          "Health and beauty",
          "Home and lifestyle",
          "Health and beauty",
          "Electronic accessories",
          "Electronic accessories",
          "Sports and travel",
          "Home and lifestyle",
          "Home and lifestyle",
          "Sports and travel",
          "Sports and travel",
          "Fashion accessories",
          "Health and beauty",
          "Home and lifestyle",
          "Health and beauty",
          "Food and beverages",
          "Fashion accessories",
          "Electronic accessories",
          "Home and lifestyle",
          "Food and beverages",
          "Food and beverages",
          "Home and lifestyle",
          "Fashion accessories",
          "Electronic accessories",
          "Fashion accessories",
          "Food and beverages",
          "Health and beauty",
          "Electronic accessories",
          "Electronic accessories",
          "Electronic accessories",
          "Health and beauty"
         ],
         "xaxis": "x",
         "y": [
          62188.55999999999,
          21893.76,
          38571.12,
          212556.96,
          30466.8,
          99769.32,
          25099.2,
          12670.56,
          167000.4,
          177905.7,
          265594.14,
          253350.72,
          91082.88,
          32780.16,
          156764.15999999997,
          142067.52,
          192859.38,
          68074.02,
          42933.24,
          27019.44,
          12216.96,
          187348.14,
          114518.88,
          221379.48,
          55021.68,
          109635.12,
          174613.31999999998,
          218952.72,
          332148.6,
          187563.6,
          80306.09999999999,
          12466.44,
          192734.64,
          41466.6,
          19414.08,
          40400.64,
          340063.92,
          170765.28,
          307132.56,
          104834.52,
          52678.08,
          198336.6,
          196219.8,
          217304.64,
          138408.48,
          27280.26,
          95029.2,
          330742.44,
          211808.52,
          150822,
          128731.68,
          151294.5,
          119954.52,
          59844.96,
          20502.72,
          285737.76,
          70262.64,
          87363.36,
          55581.12,
          38631.6,
          86924.88,
          97902,
          33585.3,
          34439.579999999994,
          339281.46,
          174560.4,
          52640.27999999999,
          78348.06,
          46815.3,
          286886.88,
          65023.55999999999,
          102853.8,
          164263.68,
          235996.74,
          205707.6,
          61515.72,
          12009.06,
          286074.18,
          111615.84,
          24985.8,
          283862.88,
          92307.6,
          193316.76,
          158363.1,
          49321.44,
          57909.600000000006,
          20582.1,
          281988,
          127442.7,
          226142.28,
          126928.62,
          126025.2,
          128357.46,
          152334,
          68455.8,
          14745.78,
          45239.04,
          181281.24,
          147782.88,
          77308.56,
          74912.04000000001,
          131430.6,
          145673.64,
          54534.06,
          148096.62,
          203477.4,
          51030,
          144815.58,
          91854,
          134779.68000000002,
          31185,
          28338.660000000003,
          69483.95999999999,
          46085.76,
          120362.76,
          35758.8,
          188414.1,
          28659.960000000003,
          48210.12,
          143451,
          46233.18,
          93124.08,
          65454.48,
          75127.5,
          103889.52,
          129313.8,
          16533.72,
          36329.58,
          43258.32,
          76870.08,
          138155.22,
          23666.58,
          127140.3,
          52224.48,
          252798.84,
          17932.32,
          267412.32,
          7238.700000000001,
          10232.46,
          14787.36,
          169442.28,
          49918.67999999999,
          55868.4,
          263314.8,
          300094.2,
          276129,
          83961.36,
          219451.68,
          129918.6,
          228236.4,
          74828.88,
          155320.2,
          264267.36,
          26233.2,
          76567.68,
          75516.84,
          229582.08,
          37093.14,
          27960.66,
          70542.36,
          33434.1,
          54999,
          190625.4,
          115838.1,
          240098.04,
          103685.4,
          51835.14,
          59285.52,
          45254.16,
          205480.8,
          86751,
          27956.88,
          30512.16,
          26913.6,
          58680.72,
          97410.6,
          64944.18,
          184762.62,
          198132.48,
          42502.32000000001,
          54462.24,
          73415.15999999999,
          128278.08000000002,
          75033,
          211309.56,
          155055.6,
          100812.6,
          54726.84,
          215146.26,
          91173.6,
          52549.56,
          27336.960000000003,
          71510.04000000001,
          109771.2,
          16805.88,
          123628.68,
          48006,
          43764.84,
          105711.48,
          164656.8,
          250285.14,
          314685,
          34530.3,
          59633.28,
          312152.4,
          113059.8,
          90617.94,
          251256.6,
          33320.700000000004,
          59444.28,
          112027.86,
          42086.52,
          12712.14,
          142997.4,
          126577.08,
          126962.64,
          90992.16,
          48727.98,
          133245,
          65477.15999999999,
          27170.64,
          30708.72,
          70610.4,
          83246.94,
          63330.12,
          169555.68000000002,
          14923.439999999997,
          13158.18,
          52345.44,
          37119.6,
          49011.48,
          94031.28,
          36650.88,
          74730.6,
          273758.94,
          300702.78,
          189903.42,
          65016,
          39644.64,
          67631.76,
          50032.08,
          35290.079999999994,
          263617.2,
          138068.28,
          200778.48000000004,
          20306.160000000003,
          276877.44,
          246569.4,
          41810.58,
          33747.84,
          138499.2,
          108077.76,
          291816,
          272651.4,
          288671.04,
          31048.92000000001,
          144607.68000000002,
          144456.48,
          54545.4,
          35297.64,
          298933.74,
          368058.6,
          20548.08,
          35070.84,
          52186.68,
          257157.18,
          6709.5,
          32508,
          160907.04,
          145393.91999999998,
          89132.4,
          79969.68000000001,
          158971.68000000002,
          245318.22,
          94605.84,
          35834.4,
          107771.58,
          101220.84,
          22793.4,
          199546.2,
          124207.02,
          63866.88,
          130614.11999999998,
          38374.56,
          135131.22,
          273762.72,
          81005.4,
          15025.499999999998,
          36590.4,
          125533.8,
          120922.2,
          175119.84,
          53638.2,
          114420.6,
          299859.84,
          69506.64,
          156643.2,
          185257.8,
          33056.1,
          78211.98000000001,
          29778.84,
          37127.16,
          20835.36,
          33381.18,
          300226.5,
          19134.36,
          226618.56,
          143224.2,
          20328.84,
          79924.32,
          45257.94,
          24834.6,
          95029.2,
          149483.88,
          104373.36,
          25197.48,
          28932.120000000003,
          65186.1,
          319901.4,
          97663.86,
          230413.68,
          37739.52,
          60328.8,
          9620.1,
          25617.06,
          120411.9,
          11158.56,
          187488,
          227918.88000000003,
          289548,
          66112.2,
          368096.4,
          197629.74,
          122589.18,
          176057.28,
          228376.26,
          156129.12,
          27412.56,
          88735.5,
          163258.2,
          269816.4,
          182388.78,
          164679.48,
          61995.78,
          65318.4,
          100506.42,
          159032.16,
          66278.52,
          84675.78,
          73014.48,
          118351.8,
          207113.76,
          84275.1,
          33521.03999999999,
          270950.4,
          273483,
          59761.8,
          59988.6,
          297750.60000000003,
          6928.740000000001,
          254027.34,
          68074.02,
          130659.48,
          16053.66,
          58159.08,
          36726.48,
          59818.5,
          132133.68,
          335172.6,
          140910.84000000003,
          197554.14,
          41428.8,
          301069.44,
          247903.74,
          60952.5,
          208950.84,
          49725.9,
          78064.56,
          219240,
          176790.6,
          113929.2,
          98159.04,
          283182.48000000004,
          174428.1,
          24074.82,
          121160.34,
          374144.4,
          116303.04,
          183949.92,
          132318.9,
          115123.68,
          67042.07999999999,
          167559.84,
          58590,
          32651.64,
          27998.46,
          61821.9,
          9559.62,
          78348.06,
          89234.46,
          6909.840000000001,
          107321.76,
          32697,
          191782.08,
          196333.2,
          70413.84000000001,
          33902.82,
          84845.88,
          45186.12,
          94726.8,
          143912.16,
          33906.6,
          117512.64,
          35910,
          178113.6,
          25080.300000000003,
          58763.880000000005,
          48761.99999999999,
          255354.12,
          84067.2,
          260366.4,
          106958.88,
          134341.2,
          73279.08,
          9094.68,
          166395.6,
          211559.04,
          5798.52,
          226414.44,
          72077.04000000001,
          251052.48,
          23617.44,
          27488.160000000003,
          177765.84000000003,
          90735.12,
          77399.28,
          191041.2,
          106448.58,
          268500.96,
          30028.320000000003,
          61923.96,
          26894.7,
          52901.1,
          34609.68,
          116745.3,
          48807.36,
          188584.2,
          54976.32000000001,
          37308.6,
          145567.80000000002,
          17750.88,
          53770.50000000001,
          259912.8,
          50633.100000000006,
          265117.86,
          27197.1,
          68848.92,
          136771.74,
          244823.04,
          166062.96,
          99701.28,
          73143,
          126800.1,
          182763,
          124482.96,
          77376.6,
          122169.6,
          29037.96,
          197542.8,
          30141.72,
          146475,
          102570.3,
          101697.12,
          26063.1,
          85473.36,
          39633.3,
          29302.56,
          154012.31999999998,
          66732.12000000001,
          140687.82,
          342657,
          53207.28,
          77089.32,
          303492.42,
          50538.6,
          120222.9,
          9450,
          31404.24,
          97032.6,
          60555.600000000006,
          163031.4,
          121791.6,
          73914.12,
          62861.4,
          14590.8,
          70194.6,
          56170.8,
          74314.8,
          155796.48,
          73120.31999999999,
          81099.9,
          143624.88,
          263409.3,
          26255.88,
          84913.92,
          185318.28,
          172764.9,
          333702.18,
          57675.24,
          262120.32,
          53524.8,
          37021.32,
          110451.6,
          34791.12,
          111207.6,
          207351.9,
          149824.08000000002,
          51120.72,
          94484.88,
          82124.28,
          168988.68,
          306973.8,
          223647.48,
          26803.98,
          162369.9,
          97176.24,
          117452.16,
          78185.52,
          59353.55999999999,
          81383.4,
          27631.8,
          17229.239999999998,
          85276.8,
          59194.8,
          53161.92,
          141957.9,
          11570.580000000002,
          10946.88,
          254961,
          131725.44,
          223466.04,
          81285.12,
          34628.58,
          46017.72,
          60442.2,
          4570.02,
          242638.2,
          88803.54000000001,
          63330.12,
          76601.7,
          65862.72,
          275108.4,
          17792.46,
          99962.1,
          52787.7,
          20960.1,
          73528.56,
          211831.2,
          171914.4,
          111086.64,
          109998,
          16238.88,
          240256.8,
          76091.40000000001,
          183821.4,
          165129.3,
          40884.48,
          236711.16000000003,
          29143.8,
          182846.16,
          67435.2,
          189083.16,
          13539.96,
          51460.92,
          33747.84,
          63504,
          7446.599999999999,
          319651.92,
          54152.28,
          28493.64,
          51559.2,
          65847.6,
          294204.96,
          218907.36,
          71253,
          83749.68000000001,
          193173.12,
          20204.1,
          83916,
          25923.24,
          143277.12,
          11574.36,
          197338.68,
          155875.86,
          17542.98,
          245019.6,
          35237.16,
          92572.2,
          166561.91999999998,
          117134.64,
          70444.08,
          75947.76,
          152182.80000000002,
          35966.7,
          147026.88,
          102453.12,
          36046.08,
          77917.14,
          33279.12,
          46811.52,
          280551.6,
          31933.44,
          34511.4,
          19799.64,
          72840.6,
          58899.96,
          29839.32,
          8058.96,
          106346.52,
          27692.28,
          224758.8,
          28009.800000000003,
          74450.88,
          181345.5,
          42804.72,
          162037.26,
          9646.56,
          90255.06,
          97660.08,
          65673.72,
          201988.08,
          35214.48,
          272220.48,
          78064.56,
          63005.04,
          120604.68,
          33226.2,
          277716.6,
          290757.6,
          119206.08000000002,
          52409.7,
          30508.38,
          60132.240000000005,
          281594.88,
          155252.16,
          112946.4,
          143141.04,
          134787.24,
          281383.2,
          169117.19999999998,
          104430.06,
          100578.24,
          172670.4,
          95993.1,
          26671.680000000004,
          248406.48,
          112640.22,
          335641.32,
          15792.84,
          5858.999999999999,
          113286.6,
          91865.34,
          17917.2,
          90810.72,
          112885.92,
          87922.8,
          331626.96,
          106898.4,
          43870.68,
          12035.52,
          24879.960000000003,
          233747.64,
          28879.2,
          225941.94,
          278056.8,
          162615.6,
          150323.04,
          25749.360000000004,
          166078.08000000002,
          42419.16,
          298468.8,
          11619.72,
          312341.4,
          241844.4,
          5832.54,
          260003.52,
          69423.48,
          28055.16,
          126395.64,
          25303.32,
          338234.4,
          234813.6,
          172163.88,
          157437,
          166834.08000000002,
          296011.8,
          38518.2,
          224962.92,
          58211.99999999999,
          121504.31999999998,
          92439.9,
          219776.76,
          144622.80000000002,
          71638.56,
          169570.8,
          33925.5,
          28236.6,
          18412.38,
          267227.1,
          78484.14,
          62097.84000000001,
          115599.96,
          309846.6,
          111370.13999999998,
          274847.58,
          30640.68,
          151139.52,
          193263.84000000003,
          107945.46,
          207264.96,
          184388.4,
          102309.48,
          339444,
          342090,
          259308,
          11494.98,
          104917.68,
          100003.68,
          91445.76,
          37376.64,
          244853.28,
          130576.32,
          57758.4,
          361292.4,
          63050.4,
          59561.46,
          98431.2,
          170031.96,
          116333.27999999998,
          103753.44,
          105552.72,
          298695.60000000003,
          28081.62,
          33037.2,
          62748.00000000001,
          134927.1,
          43432.2,
          162490.86,
          226743.3,
          107843.4,
          317270.52,
          22320.9,
          4740.12,
          65892.95999999999,
          56034.72000000001,
          32904.9,
          83575.8,
          70459.2,
          133018.2,
          10878.84,
          99701.28,
          24872.4,
          53630.64,
          15966.72,
          82479.6,
          144275.04,
          268342.2,
          13986,
          28297.08,
          80797.5,
          73691.09999999999,
          98128.8,
          43606.08,
          33494.579999999994,
          75463.92,
          18374.58,
          52413.48,
          295331.4,
          75123.72,
          23904.72,
          141353.1,
          78506.82,
          66633.84000000001,
          78007.86,
          14900.760000000002,
          142521.12,
          27783,
          54035.1,
          183386.7,
          269892,
          375354.00000000006,
          11430.72,
          141939,
          360763.2,
          285677.28,
          75441.24,
          62354.88,
          123500.16,
          174590.63999999998,
          54280.8,
          159009.48,
          95437.44000000002,
          252666.54,
          146633.75999999998,
          20117.16,
          113233.68,
          106074.36,
          183946.14,
          91264.32,
          89427.24,
          69884.64000000001,
          5284.4400000000005,
          258752.34,
          45019.8,
          68614.56,
          30810.78,
          43772.4,
          95312.7,
          367453.8,
          6153.84,
          32712.120000000003,
          337614.48,
          125390.16,
          25764.48,
          123560.64,
          32961.6,
          4830.84,
          104554.8,
          51869.16,
          176034.6,
          13566.42,
          76582.8,
          111812.4,
          8550.359999999999,
          206199,
          98298.9,
          8157.240000000001,
          37361.52,
          189990.36,
          127113.84,
          199493.28,
          123984,
          139784.4,
          8678.880000000001,
          45813.6,
          47794.32,
          204664.32,
          12058.2,
          52466.4,
          36174.6,
          154499.94,
          19455.66,
          74447.1,
          135928.8,
          188629.56,
          47529.72000000001,
          55486.62,
          44108.82,
          198404.64,
          28682.64,
          42570.36,
          50372.28,
          372405.6,
          337176,
          186467.4,
          195751.08,
          48036.24,
          30867.48,
          70292.87999999999,
          225325.8,
          105530.04,
          64139.04000000001,
          158737.31999999998,
          69646.5,
          31404.24,
          24566.22,
          293176.8,
          137300.94,
          75282.48,
          336695.94,
          30591.54,
          166149.9,
          98567.28,
          17463.6,
          267775.2,
          219300.48,
          22774.5,
          159236.28,
          11710.44,
          93517.2,
          37682.82,
          45352.44,
          329238,
          74692.8,
          108206.28,
          101727.36,
          222831,
          111857.76,
          55097.28,
          238786.38,
          145635.84000000003,
          194163.48000000004,
          178945.2,
          368550,
          182679.84,
          26074.44,
          47234.88,
          114201.36,
          264097.26,
          47117.7,
          298468.8,
          308323.26,
          97293.42,
          86184,
          63016.380000000005,
          147057.12,
          309771,
          214855.2,
          222112.8,
          147144.06,
          32065.74,
          95770.08,
          14522.76,
          19901.7,
          214934.58,
          96242.58,
          86252.04000000001,
          227212.02,
          179901.54,
          19814.76,
          49631.4,
          172810.26,
          47722.5,
          65923.2,
          133086.24000000002,
          19202.4,
          217395.36,
          20771.1,
          68572.98,
          103647.6,
          23008.86,
          163844.1,
          91324.8,
          178313.94,
          235040.4,
          122793.3,
          120234.24000000002,
          3844.26,
          245511,
          211188.6,
          66270.95999999999,
          11241.72,
          8459.640000000001,
          247937.76,
          140740.74,
          32610.06,
          38340.54,
          47491.92,
          27567.54,
          21357,
          197346.24,
          19788.3,
          30784.32,
          36862.56,
          158117.4,
          174806.1,
          160718.04,
          107208.36,
          226497.6,
          152545.68000000002,
          44089.920000000006,
          118510.55999999998,
          319825.8,
          84868.56,
          80491.32,
          16197.3,
          121757.58,
          9623.88,
          219988.44000000003,
          79878.95999999999,
          63012.6,
          169555.68000000002,
          97206.48,
          208742.94,
          129933.72,
          339587.64,
          63693.00000000001,
          67680.9,
          31812.48,
          171766.97999999998,
          59724,
          34768.439999999995,
          109793.88,
          65114.28,
          90100.08,
          264494.16000000003,
          254995.02,
          311245.2,
          23039.1,
          15252.3
         ],
         "yaxis": "y"
        }
       ],
       "layout": {
        "legend": {
         "tracegroupgap": 0
        },
        "margin": {
         "t": 60
        },
        "template": {
         "data": {
          "bar": [
           {
            "error_x": {
             "color": "#2a3f5f"
            },
            "error_y": {
             "color": "#2a3f5f"
            },
            "marker": {
             "line": {
              "color": "#E5ECF6",
              "width": 0.5
             },
             "pattern": {
              "fillmode": "overlay",
              "size": 10,
              "solidity": 0.2
             }
            },
            "type": "bar"
           }
          ],
          "barpolar": [
           {
            "marker": {
             "line": {
              "color": "#E5ECF6",
              "width": 0.5
             },
             "pattern": {
              "fillmode": "overlay",
              "size": 10,
              "solidity": 0.2
             }
            },
            "type": "barpolar"
           }
          ],
          "carpet": [
           {
            "aaxis": {
             "endlinecolor": "#2a3f5f",
             "gridcolor": "white",
             "linecolor": "white",
             "minorgridcolor": "white",
             "startlinecolor": "#2a3f5f"
            },
            "baxis": {
             "endlinecolor": "#2a3f5f",
             "gridcolor": "white",
             "linecolor": "white",
             "minorgridcolor": "white",
             "startlinecolor": "#2a3f5f"
            },
            "type": "carpet"
           }
          ],
          "choropleth": [
           {
            "colorbar": {
             "outlinewidth": 0,
             "ticks": ""
            },
            "type": "choropleth"
           }
          ],
          "contour": [
           {
            "colorbar": {
             "outlinewidth": 0,
             "ticks": ""
            },
            "colorscale": [
             [
              0,
              "#0d0887"
             ],
             [
              0.1111111111111111,
              "#46039f"
             ],
             [
              0.2222222222222222,
              "#7201a8"
             ],
             [
              0.3333333333333333,
              "#9c179e"
             ],
             [
              0.4444444444444444,
              "#bd3786"
             ],
             [
              0.5555555555555556,
              "#d8576b"
             ],
             [
              0.6666666666666666,
              "#ed7953"
             ],
             [
              0.7777777777777778,
              "#fb9f3a"
             ],
             [
              0.8888888888888888,
              "#fdca26"
             ],
             [
              1,
              "#f0f921"
             ]
            ],
            "type": "contour"
           }
          ],
          "contourcarpet": [
           {
            "colorbar": {
             "outlinewidth": 0,
             "ticks": ""
            },
            "type": "contourcarpet"
           }
          ],
          "heatmap": [
           {
            "colorbar": {
             "outlinewidth": 0,
             "ticks": ""
            },
            "colorscale": [
             [
              0,
              "#0d0887"
             ],
             [
              0.1111111111111111,
              "#46039f"
             ],
             [
              0.2222222222222222,
              "#7201a8"
             ],
             [
              0.3333333333333333,
              "#9c179e"
             ],
             [
              0.4444444444444444,
              "#bd3786"
             ],
             [
              0.5555555555555556,
              "#d8576b"
             ],
             [
              0.6666666666666666,
              "#ed7953"
             ],
             [
              0.7777777777777778,
              "#fb9f3a"
             ],
             [
              0.8888888888888888,
              "#fdca26"
             ],
             [
              1,
              "#f0f921"
             ]
            ],
            "type": "heatmap"
           }
          ],
          "heatmapgl": [
           {
            "colorbar": {
             "outlinewidth": 0,
             "ticks": ""
            },
            "colorscale": [
             [
              0,
              "#0d0887"
             ],
             [
              0.1111111111111111,
              "#46039f"
             ],
             [
              0.2222222222222222,
              "#7201a8"
             ],
             [
              0.3333333333333333,
              "#9c179e"
             ],
             [
              0.4444444444444444,
              "#bd3786"
             ],
             [
              0.5555555555555556,
              "#d8576b"
             ],
             [
              0.6666666666666666,
              "#ed7953"
             ],
             [
              0.7777777777777778,
              "#fb9f3a"
             ],
             [
              0.8888888888888888,
              "#fdca26"
             ],
             [
              1,
              "#f0f921"
             ]
            ],
            "type": "heatmapgl"
           }
          ],
          "histogram": [
           {
            "marker": {
             "pattern": {
              "fillmode": "overlay",
              "size": 10,
              "solidity": 0.2
             }
            },
            "type": "histogram"
           }
          ],
          "histogram2d": [
           {
            "colorbar": {
             "outlinewidth": 0,
             "ticks": ""
            },
            "colorscale": [
             [
              0,
              "#0d0887"
             ],
             [
              0.1111111111111111,
              "#46039f"
             ],
             [
              0.2222222222222222,
              "#7201a8"
             ],
             [
              0.3333333333333333,
              "#9c179e"
             ],
             [
              0.4444444444444444,
              "#bd3786"
             ],
             [
              0.5555555555555556,
              "#d8576b"
             ],
             [
              0.6666666666666666,
              "#ed7953"
             ],
             [
              0.7777777777777778,
              "#fb9f3a"
             ],
             [
              0.8888888888888888,
              "#fdca26"
             ],
             [
              1,
              "#f0f921"
             ]
            ],
            "type": "histogram2d"
           }
          ],
          "histogram2dcontour": [
           {
            "colorbar": {
             "outlinewidth": 0,
             "ticks": ""
            },
            "colorscale": [
             [
              0,
              "#0d0887"
             ],
             [
              0.1111111111111111,
              "#46039f"
             ],
             [
              0.2222222222222222,
              "#7201a8"
             ],
             [
              0.3333333333333333,
              "#9c179e"
             ],
             [
              0.4444444444444444,
              "#bd3786"
             ],
             [
              0.5555555555555556,
              "#d8576b"
             ],
             [
              0.6666666666666666,
              "#ed7953"
             ],
             [
              0.7777777777777778,
              "#fb9f3a"
             ],
             [
              0.8888888888888888,
              "#fdca26"
             ],
             [
              1,
              "#f0f921"
             ]
            ],
            "type": "histogram2dcontour"
           }
          ],
          "mesh3d": [
           {
            "colorbar": {
             "outlinewidth": 0,
             "ticks": ""
            },
            "type": "mesh3d"
           }
          ],
          "parcoords": [
           {
            "line": {
             "colorbar": {
              "outlinewidth": 0,
              "ticks": ""
             }
            },
            "type": "parcoords"
           }
          ],
          "pie": [
           {
            "automargin": true,
            "type": "pie"
           }
          ],
          "scatter": [
           {
            "marker": {
             "colorbar": {
              "outlinewidth": 0,
              "ticks": ""
             }
            },
            "type": "scatter"
           }
          ],
          "scatter3d": [
           {
            "line": {
             "colorbar": {
              "outlinewidth": 0,
              "ticks": ""
             }
            },
            "marker": {
             "colorbar": {
              "outlinewidth": 0,
              "ticks": ""
             }
            },
            "type": "scatter3d"
           }
          ],
          "scattercarpet": [
           {
            "marker": {
             "colorbar": {
              "outlinewidth": 0,
              "ticks": ""
             }
            },
            "type": "scattercarpet"
           }
          ],
          "scattergeo": [
           {
            "marker": {
             "colorbar": {
              "outlinewidth": 0,
              "ticks": ""
             }
            },
            "type": "scattergeo"
           }
          ],
          "scattergl": [
           {
            "marker": {
             "colorbar": {
              "outlinewidth": 0,
              "ticks": ""
             }
            },
            "type": "scattergl"
           }
          ],
          "scattermapbox": [
           {
            "marker": {
             "colorbar": {
              "outlinewidth": 0,
              "ticks": ""
             }
            },
            "type": "scattermapbox"
           }
          ],
          "scatterpolar": [
           {
            "marker": {
             "colorbar": {
              "outlinewidth": 0,
              "ticks": ""
             }
            },
            "type": "scatterpolar"
           }
          ],
          "scatterpolargl": [
           {
            "marker": {
             "colorbar": {
              "outlinewidth": 0,
              "ticks": ""
             }
            },
            "type": "scatterpolargl"
           }
          ],
          "scatterternary": [
           {
            "marker": {
             "colorbar": {
              "outlinewidth": 0,
              "ticks": ""
             }
            },
            "type": "scatterternary"
           }
          ],
          "surface": [
           {
            "colorbar": {
             "outlinewidth": 0,
             "ticks": ""
            },
            "colorscale": [
             [
              0,
              "#0d0887"
             ],
             [
              0.1111111111111111,
              "#46039f"
             ],
             [
              0.2222222222222222,
              "#7201a8"
             ],
             [
              0.3333333333333333,
              "#9c179e"
             ],
             [
              0.4444444444444444,
              "#bd3786"
             ],
             [
              0.5555555555555556,
              "#d8576b"
             ],
             [
              0.6666666666666666,
              "#ed7953"
             ],
             [
              0.7777777777777778,
              "#fb9f3a"
             ],
             [
              0.8888888888888888,
              "#fdca26"
             ],
             [
              1,
              "#f0f921"
             ]
            ],
            "type": "surface"
           }
          ],
          "table": [
           {
            "cells": {
             "fill": {
              "color": "#EBF0F8"
             },
             "line": {
              "color": "white"
             }
            },
            "header": {
             "fill": {
              "color": "#C8D4E3"
             },
             "line": {
              "color": "white"
             }
            },
            "type": "table"
           }
          ]
         },
         "layout": {
          "annotationdefaults": {
           "arrowcolor": "#2a3f5f",
           "arrowhead": 0,
           "arrowwidth": 1
          },
          "autotypenumbers": "strict",
          "coloraxis": {
           "colorbar": {
            "outlinewidth": 0,
            "ticks": ""
           }
          },
          "colorscale": {
           "diverging": [
            [
             0,
             "#8e0152"
            ],
            [
             0.1,
             "#c51b7d"
            ],
            [
             0.2,
             "#de77ae"
            ],
            [
             0.3,
             "#f1b6da"
            ],
            [
             0.4,
             "#fde0ef"
            ],
            [
             0.5,
             "#f7f7f7"
            ],
            [
             0.6,
             "#e6f5d0"
            ],
            [
             0.7,
             "#b8e186"
            ],
            [
             0.8,
             "#7fbc41"
            ],
            [
             0.9,
             "#4d9221"
            ],
            [
             1,
             "#276419"
            ]
           ],
           "sequential": [
            [
             0,
             "#0d0887"
            ],
            [
             0.1111111111111111,
             "#46039f"
            ],
            [
             0.2222222222222222,
             "#7201a8"
            ],
            [
             0.3333333333333333,
             "#9c179e"
            ],
            [
             0.4444444444444444,
             "#bd3786"
            ],
            [
             0.5555555555555556,
             "#d8576b"
            ],
            [
             0.6666666666666666,
             "#ed7953"
            ],
            [
             0.7777777777777778,
             "#fb9f3a"
            ],
            [
             0.8888888888888888,
             "#fdca26"
            ],
            [
             1,
             "#f0f921"
            ]
           ],
           "sequentialminus": [
            [
             0,
             "#0d0887"
            ],
            [
             0.1111111111111111,
             "#46039f"
            ],
            [
             0.2222222222222222,
             "#7201a8"
            ],
            [
             0.3333333333333333,
             "#9c179e"
            ],
            [
             0.4444444444444444,
             "#bd3786"
            ],
            [
             0.5555555555555556,
             "#d8576b"
            ],
            [
             0.6666666666666666,
             "#ed7953"
            ],
            [
             0.7777777777777778,
             "#fb9f3a"
            ],
            [
             0.8888888888888888,
             "#fdca26"
            ],
            [
             1,
             "#f0f921"
            ]
           ]
          },
          "colorway": [
           "#636efa",
           "#EF553B",
           "#00cc96",
           "#ab63fa",
           "#FFA15A",
           "#19d3f3",
           "#FF6692",
           "#B6E880",
           "#FF97FF",
           "#FECB52"
          ],
          "font": {
           "color": "#2a3f5f"
          },
          "geo": {
           "bgcolor": "white",
           "lakecolor": "white",
           "landcolor": "#E5ECF6",
           "showlakes": true,
           "showland": true,
           "subunitcolor": "white"
          },
          "hoverlabel": {
           "align": "left"
          },
          "hovermode": "closest",
          "mapbox": {
           "style": "light"
          },
          "paper_bgcolor": "white",
          "plot_bgcolor": "#E5ECF6",
          "polar": {
           "angularaxis": {
            "gridcolor": "white",
            "linecolor": "white",
            "ticks": ""
           },
           "bgcolor": "#E5ECF6",
           "radialaxis": {
            "gridcolor": "white",
            "linecolor": "white",
            "ticks": ""
           }
          },
          "scene": {
           "xaxis": {
            "backgroundcolor": "#E5ECF6",
            "gridcolor": "white",
            "gridwidth": 2,
            "linecolor": "white",
            "showbackground": true,
            "ticks": "",
            "zerolinecolor": "white"
           },
           "yaxis": {
            "backgroundcolor": "#E5ECF6",
            "gridcolor": "white",
            "gridwidth": 2,
            "linecolor": "white",
            "showbackground": true,
            "ticks": "",
            "zerolinecolor": "white"
           },
           "zaxis": {
            "backgroundcolor": "#E5ECF6",
            "gridcolor": "white",
            "gridwidth": 2,
            "linecolor": "white",
            "showbackground": true,
            "ticks": "",
            "zerolinecolor": "white"
           }
          },
          "shapedefaults": {
           "line": {
            "color": "#2a3f5f"
           }
          },
          "ternary": {
           "aaxis": {
            "gridcolor": "white",
            "linecolor": "white",
            "ticks": ""
           },
           "baxis": {
            "gridcolor": "white",
            "linecolor": "white",
            "ticks": ""
           },
           "bgcolor": "#E5ECF6",
           "caxis": {
            "gridcolor": "white",
            "linecolor": "white",
            "ticks": ""
           }
          },
          "title": {
           "x": 0.05
          },
          "xaxis": {
           "automargin": true,
           "gridcolor": "white",
           "linecolor": "white",
           "ticks": "",
           "title": {
            "standoff": 15
           },
           "zerolinecolor": "white",
           "zerolinewidth": 2
          },
          "yaxis": {
           "automargin": true,
           "gridcolor": "white",
           "linecolor": "white",
           "ticks": "",
           "title": {
            "standoff": 15
           },
           "zerolinecolor": "white",
           "zerolinewidth": 2
          }
         }
        },
        "xaxis": {
         "anchor": "y",
         "domain": [
          0,
          1
         ],
         "title": {
          "text": "Product line"
         }
        },
        "yaxis": {
         "anchor": "x",
         "domain": [
          0,
          1
         ],
         "title": {
          "text": "Total"
         }
        }
       }
      },
      "text/html": [
       "<div>                            <div id=\"58f7cb11-2007-4196-a0ea-96dad35f827c\" class=\"plotly-graph-div\" style=\"height:525px; width:100%;\"></div>            <script type=\"text/javascript\">                require([\"plotly\"], function(Plotly) {                    window.PLOTLYENV=window.PLOTLYENV || {};                                    if (document.getElementById(\"58f7cb11-2007-4196-a0ea-96dad35f827c\")) {                    Plotly.newPlot(                        \"58f7cb11-2007-4196-a0ea-96dad35f827c\",                        [{\"hovertemplate\":\"Product line=%{x}<br>Total=%{y}<extra></extra>\",\"legendgroup\":\"\",\"line\":{\"color\":\"#636efa\"},\"mode\":\"lines\",\"name\":\"\",\"orientation\":\"v\",\"showlegend\":false,\"stackgroup\":\"1\",\"type\":\"scatter\",\"x\":[\"Food and beverages\",\"Fashion accessories\",\"Electronic accessories\",\"Sports and travel\",\"Home and lifestyle\",\"Health and beauty\",\"Home and lifestyle\",\"Fashion accessories\",\"Food and beverages\",\"Fashion accessories\",\"Sports and travel\",\"Sports and travel\",\"Home and lifestyle\",\"Home and lifestyle\",\"Sports and travel\",\"Electronic accessories\",\"Health and beauty\",\"Food and beverages\",\"Electronic accessories\",\"Fashion accessories\",\"Home and lifestyle\",\"Sports and travel\",\"Health and beauty\",\"Fashion accessories\",\"Food and beverages\",\"Food and beverages\",\"Health and beauty\",\"Health and beauty\",\"Health and beauty\",\"Home and lifestyle\",\"Health and beauty\",\"Sports and travel\",\"Fashion accessories\",\"Fashion accessories\",\"Fashion accessories\",\"Home and lifestyle\",\"Sports and travel\",\"Fashion accessories\",\"Sports and travel\",\"Fashion accessories\",\"Sports and travel\",\"Electronic accessories\",\"Sports and travel\",\"Home and lifestyle\",\"Fashion accessories\",\"Electronic accessories\",\"Home and lifestyle\",\"Health and beauty\",\"Sports and travel\",\"Food and beverages\",\"Health and beauty\",\"Food and beverages\",\"Electronic accessories\",\"Food and beverages\",\"Food and beverages\",\"Home and lifestyle\",\"Home and lifestyle\",\"Home and lifestyle\",\"Fashion accessories\",\"Home and lifestyle\",\"Electronic accessories\",\"Health and beauty\",\"Home and lifestyle\",\"Fashion accessories\",\"Electronic accessories\",\"Home and lifestyle\",\"Sports and travel\",\"Sports and travel\",\"Sports and travel\",\"Fashion accessories\",\"Food and beverages\",\"Electronic accessories\",\"Food and beverages\",\"Health and beauty\",\"Electronic accessories\",\"Fashion accessories\",\"Electronic accessories\",\"Health and beauty\",\"Fashion accessories\",\"Electronic accessories\",\"Home and lifestyle\",\"Electronic accessories\",\"Food and beverages\",\"Food and beverages\",\"Fashion accessories\",\"Fashion accessories\",\"Sports and travel\",\"Food and beverages\",\"Sports and travel\",\"Health and beauty\",\"Fashion accessories\",\"Health and beauty\",\"Food and beverages\",\"Electronic accessories\",\"Health and beauty\",\"Health and beauty\",\"Electronic accessories\",\"Sports and travel\",\"Sports and travel\",\"Health and beauty\",\"Home and lifestyle\",\"Sports and travel\",\"Food and beverages\",\"Electronic accessories\",\"Health and beauty\",\"Health and beauty\",\"Health and beauty\",\"Fashion accessories\",\"Home and lifestyle\",\"Food and beverages\",\"Electronic accessories\",\"Sports and travel\",\"Electronic accessories\",\"Fashion accessories\",\"Home and lifestyle\",\"Electronic accessories\",\"Food and beverages\",\"Sports and travel\",\"Food and beverages\",\"Fashion accessories\",\"Home and lifestyle\",\"Health and beauty\",\"Electronic accessories\",\"Fashion accessories\",\"Fashion accessories\",\"Health and beauty\",\"Sports and travel\",\"Health and beauty\",\"Health and beauty\",\"Fashion accessories\",\"Fashion accessories\",\"Food and beverages\",\"Sports and travel\",\"Fashion accessories\",\"Fashion accessories\",\"Fashion accessories\",\"Sports and travel\",\"Health and beauty\",\"Health and beauty\",\"Sports and travel\",\"Electronic accessories\",\"Electronic accessories\",\"Fashion accessories\",\"Food and beverages\",\"Electronic accessories\",\"Food and beverages\",\"Sports and travel\",\"Health and beauty\",\"Sports and travel\",\"Home and lifestyle\",\"Sports and travel\",\"Fashion accessories\",\"Home and lifestyle\",\"Fashion accessories\",\"Health and beauty\",\"Fashion accessories\",\"Sports and travel\",\"Sports and travel\",\"Sports and travel\",\"Sports and travel\",\"Sports and travel\",\"Sports and travel\",\"Food and beverages\",\"Health and beauty\",\"Sports and travel\",\"Health and beauty\",\"Electronic accessories\",\"Fashion accessories\",\"Fashion accessories\",\"Food and beverages\",\"Electronic accessories\",\"Fashion accessories\",\"Sports and travel\",\"Food and beverages\",\"Home and lifestyle\",\"Sports and travel\",\"Fashion accessories\",\"Fashion accessories\",\"Health and beauty\",\"Home and lifestyle\",\"Fashion accessories\",\"Electronic accessories\",\"Electronic accessories\",\"Fashion accessories\",\"Fashion accessories\",\"Home and lifestyle\",\"Sports and travel\",\"Food and beverages\",\"Fashion accessories\",\"Food and beverages\",\"Health and beauty\",\"Fashion accessories\",\"Sports and travel\",\"Sports and travel\",\"Health and beauty\",\"Sports and travel\",\"Home and lifestyle\",\"Food and beverages\",\"Fashion accessories\",\"Sports and travel\",\"Home and lifestyle\",\"Fashion accessories\",\"Fashion accessories\",\"Food and beverages\",\"Health and beauty\",\"Home and lifestyle\",\"Food and beverages\",\"Health and beauty\",\"Food and beverages\",\"Fashion accessories\",\"Food and beverages\",\"Electronic accessories\",\"Fashion accessories\",\"Electronic accessories\",\"Health and beauty\",\"Sports and travel\",\"Fashion accessories\",\"Sports and travel\",\"Fashion accessories\",\"Food and beverages\",\"Health and beauty\",\"Sports and travel\",\"Food and beverages\",\"Health and beauty\",\"Fashion accessories\",\"Sports and travel\",\"Electronic accessories\",\"Sports and travel\",\"Sports and travel\",\"Home and lifestyle\",\"Sports and travel\",\"Home and lifestyle\",\"Food and beverages\",\"Fashion accessories\",\"Health and beauty\",\"Home and lifestyle\",\"Health and beauty\",\"Electronic accessories\",\"Fashion accessories\",\"Fashion accessories\",\"Home and lifestyle\",\"Food and beverages\",\"Sports and travel\",\"Home and lifestyle\",\"Electronic accessories\",\"Food and beverages\",\"Electronic accessories\",\"Fashion accessories\",\"Home and lifestyle\",\"Fashion accessories\",\"Home and lifestyle\",\"Electronic accessories\",\"Food and beverages\",\"Electronic accessories\",\"Home and lifestyle\",\"Sports and travel\",\"Electronic accessories\",\"Sports and travel\",\"Food and beverages\",\"Sports and travel\",\"Electronic accessories\",\"Home and lifestyle\",\"Fashion accessories\",\"Health and beauty\",\"Sports and travel\",\"Electronic accessories\",\"Health and beauty\",\"Health and beauty\",\"Food and beverages\",\"Health and beauty\",\"Food and beverages\",\"Electronic accessories\",\"Sports and travel\",\"Health and beauty\",\"Health and beauty\",\"Sports and travel\",\"Home and lifestyle\",\"Sports and travel\",\"Electronic accessories\",\"Electronic accessories\",\"Fashion accessories\",\"Food and beverages\",\"Health and beauty\",\"Home and lifestyle\",\"Home and lifestyle\",\"Sports and travel\",\"Electronic accessories\",\"Electronic accessories\",\"Electronic accessories\",\"Food and beverages\",\"Sports and travel\",\"Electronic accessories\",\"Electronic accessories\",\"Electronic accessories\",\"Health and beauty\",\"Home and lifestyle\",\"Health and beauty\",\"Home and lifestyle\",\"Food and beverages\",\"Home and lifestyle\",\"Electronic accessories\",\"Home and lifestyle\",\"Electronic accessories\",\"Sports and travel\",\"Electronic accessories\",\"Sports and travel\",\"Home and lifestyle\",\"Home and lifestyle\",\"Fashion accessories\",\"Food and beverages\",\"Health and beauty\",\"Home and lifestyle\",\"Food and beverages\",\"Home and lifestyle\",\"Electronic accessories\",\"Food and beverages\",\"Electronic accessories\",\"Electronic accessories\",\"Food and beverages\",\"Home and lifestyle\",\"Electronic accessories\",\"Fashion accessories\",\"Food and beverages\",\"Electronic accessories\",\"Food and beverages\",\"Fashion accessories\",\"Health and beauty\",\"Health and beauty\",\"Health and beauty\",\"Sports and travel\",\"Fashion accessories\",\"Home and lifestyle\",\"Health and beauty\",\"Home and lifestyle\",\"Health and beauty\",\"Sports and travel\",\"Electronic accessories\",\"Health and beauty\",\"Electronic accessories\",\"Food and beverages\",\"Health and beauty\",\"Health and beauty\",\"Sports and travel\",\"Food and beverages\",\"Electronic accessories\",\"Sports and travel\",\"Home and lifestyle\",\"Fashion accessories\",\"Health and beauty\",\"Health and beauty\",\"Sports and travel\",\"Electronic accessories\",\"Food and beverages\",\"Home and lifestyle\",\"Health and beauty\",\"Home and lifestyle\",\"Sports and travel\",\"Health and beauty\",\"Sports and travel\",\"Health and beauty\",\"Home and lifestyle\",\"Fashion accessories\",\"Food and beverages\",\"Sports and travel\",\"Sports and travel\",\"Electronic accessories\",\"Food and beverages\",\"Food and beverages\",\"Electronic accessories\",\"Sports and travel\",\"Home and lifestyle\",\"Food and beverages\",\"Electronic accessories\",\"Home and lifestyle\",\"Sports and travel\",\"Sports and travel\",\"Electronic accessories\",\"Home and lifestyle\",\"Sports and travel\",\"Home and lifestyle\",\"Fashion accessories\",\"Health and beauty\",\"Fashion accessories\",\"Food and beverages\",\"Sports and travel\",\"Food and beverages\",\"Fashion accessories\",\"Food and beverages\",\"Sports and travel\",\"Health and beauty\",\"Home and lifestyle\",\"Food and beverages\",\"Food and beverages\",\"Sports and travel\",\"Sports and travel\",\"Home and lifestyle\",\"Electronic accessories\",\"Home and lifestyle\",\"Health and beauty\",\"Electronic accessories\",\"Home and lifestyle\",\"Electronic accessories\",\"Food and beverages\",\"Home and lifestyle\",\"Health and beauty\",\"Sports and travel\",\"Fashion accessories\",\"Food and beverages\",\"Health and beauty\",\"Home and lifestyle\",\"Home and lifestyle\",\"Fashion accessories\",\"Electronic accessories\",\"Home and lifestyle\",\"Home and lifestyle\",\"Electronic accessories\",\"Home and lifestyle\",\"Electronic accessories\",\"Electronic accessories\",\"Sports and travel\",\"Sports and travel\",\"Home and lifestyle\",\"Home and lifestyle\",\"Home and lifestyle\",\"Home and lifestyle\",\"Sports and travel\",\"Home and lifestyle\",\"Sports and travel\",\"Health and beauty\",\"Health and beauty\",\"Home and lifestyle\",\"Electronic accessories\",\"Food and beverages\",\"Home and lifestyle\",\"Home and lifestyle\",\"Electronic accessories\",\"Electronic accessories\",\"Sports and travel\",\"Home and lifestyle\",\"Electronic accessories\",\"Fashion accessories\",\"Food and beverages\",\"Health and beauty\",\"Health and beauty\",\"Fashion accessories\",\"Home and lifestyle\",\"Food and beverages\",\"Electronic accessories\",\"Food and beverages\",\"Fashion accessories\",\"Food and beverages\",\"Electronic accessories\",\"Fashion accessories\",\"Sports and travel\",\"Fashion accessories\",\"Electronic accessories\",\"Electronic accessories\",\"Electronic accessories\",\"Food and beverages\",\"Home and lifestyle\",\"Home and lifestyle\",\"Electronic accessories\",\"Home and lifestyle\",\"Fashion accessories\",\"Sports and travel\",\"Food and beverages\",\"Health and beauty\",\"Electronic accessories\",\"Sports and travel\",\"Health and beauty\",\"Health and beauty\",\"Food and beverages\",\"Sports and travel\",\"Food and beverages\",\"Home and lifestyle\",\"Health and beauty\",\"Sports and travel\",\"Home and lifestyle\",\"Electronic accessories\",\"Health and beauty\",\"Home and lifestyle\",\"Electronic accessories\",\"Home and lifestyle\",\"Home and lifestyle\",\"Sports and travel\",\"Food and beverages\",\"Health and beauty\",\"Electronic accessories\",\"Food and beverages\",\"Sports and travel\",\"Fashion accessories\",\"Electronic accessories\",\"Health and beauty\",\"Sports and travel\",\"Electronic accessories\",\"Sports and travel\",\"Fashion accessories\",\"Fashion accessories\",\"Sports and travel\",\"Electronic accessories\",\"Home and lifestyle\",\"Fashion accessories\",\"Electronic accessories\",\"Home and lifestyle\",\"Home and lifestyle\",\"Food and beverages\",\"Sports and travel\",\"Sports and travel\",\"Health and beauty\",\"Fashion accessories\",\"Home and lifestyle\",\"Home and lifestyle\",\"Fashion accessories\",\"Home and lifestyle\",\"Fashion accessories\",\"Sports and travel\",\"Electronic accessories\",\"Electronic accessories\",\"Food and beverages\",\"Home and lifestyle\",\"Electronic accessories\",\"Food and beverages\",\"Fashion accessories\",\"Food and beverages\",\"Sports and travel\",\"Health and beauty\",\"Health and beauty\",\"Health and beauty\",\"Food and beverages\",\"Sports and travel\",\"Health and beauty\",\"Sports and travel\",\"Sports and travel\",\"Food and beverages\",\"Home and lifestyle\",\"Fashion accessories\",\"Fashion accessories\",\"Electronic accessories\",\"Food and beverages\",\"Sports and travel\",\"Food and beverages\",\"Food and beverages\",\"Food and beverages\",\"Sports and travel\",\"Home and lifestyle\",\"Fashion accessories\",\"Sports and travel\",\"Electronic accessories\",\"Food and beverages\",\"Health and beauty\",\"Home and lifestyle\",\"Home and lifestyle\",\"Electronic accessories\",\"Fashion accessories\",\"Sports and travel\",\"Fashion accessories\",\"Fashion accessories\",\"Fashion accessories\",\"Electronic accessories\",\"Food and beverages\",\"Food and beverages\",\"Fashion accessories\",\"Home and lifestyle\",\"Food and beverages\",\"Health and beauty\",\"Home and lifestyle\",\"Sports and travel\",\"Electronic accessories\",\"Sports and travel\",\"Food and beverages\",\"Health and beauty\",\"Fashion accessories\",\"Electronic accessories\",\"Fashion accessories\",\"Fashion accessories\",\"Health and beauty\",\"Fashion accessories\",\"Home and lifestyle\",\"Sports and travel\",\"Home and lifestyle\",\"Food and beverages\",\"Electronic accessories\",\"Fashion accessories\",\"Home and lifestyle\",\"Food and beverages\",\"Food and beverages\",\"Fashion accessories\",\"Health and beauty\",\"Health and beauty\",\"Home and lifestyle\",\"Sports and travel\",\"Fashion accessories\",\"Electronic accessories\",\"Sports and travel\",\"Fashion accessories\",\"Electronic accessories\",\"Electronic accessories\",\"Sports and travel\",\"Fashion accessories\",\"Home and lifestyle\",\"Sports and travel\",\"Electronic accessories\",\"Electronic accessories\",\"Electronic accessories\",\"Electronic accessories\",\"Food and beverages\",\"Home and lifestyle\",\"Health and beauty\",\"Sports and travel\",\"Fashion accessories\",\"Electronic accessories\",\"Electronic accessories\",\"Health and beauty\",\"Fashion accessories\",\"Fashion accessories\",\"Fashion accessories\",\"Sports and travel\",\"Fashion accessories\",\"Electronic accessories\",\"Electronic accessories\",\"Fashion accessories\",\"Fashion accessories\",\"Fashion accessories\",\"Health and beauty\",\"Home and lifestyle\",\"Food and beverages\",\"Sports and travel\",\"Electronic accessories\",\"Sports and travel\",\"Food and beverages\",\"Sports and travel\",\"Home and lifestyle\",\"Electronic accessories\",\"Home and lifestyle\",\"Food and beverages\",\"Sports and travel\",\"Food and beverages\",\"Electronic accessories\",\"Sports and travel\",\"Food and beverages\",\"Health and beauty\",\"Food and beverages\",\"Food and beverages\",\"Home and lifestyle\",\"Fashion accessories\",\"Food and beverages\",\"Fashion accessories\",\"Health and beauty\",\"Food and beverages\",\"Sports and travel\",\"Health and beauty\",\"Food and beverages\",\"Home and lifestyle\",\"Health and beauty\",\"Health and beauty\",\"Electronic accessories\",\"Fashion accessories\",\"Food and beverages\",\"Electronic accessories\",\"Fashion accessories\",\"Home and lifestyle\",\"Home and lifestyle\",\"Health and beauty\",\"Home and lifestyle\",\"Food and beverages\",\"Health and beauty\",\"Sports and travel\",\"Food and beverages\",\"Electronic accessories\",\"Food and beverages\",\"Home and lifestyle\",\"Fashion accessories\",\"Electronic accessories\",\"Electronic accessories\",\"Home and lifestyle\",\"Electronic accessories\",\"Food and beverages\",\"Sports and travel\",\"Health and beauty\",\"Home and lifestyle\",\"Food and beverages\",\"Health and beauty\",\"Fashion accessories\",\"Food and beverages\",\"Fashion accessories\",\"Electronic accessories\",\"Electronic accessories\",\"Sports and travel\",\"Home and lifestyle\",\"Health and beauty\",\"Food and beverages\",\"Fashion accessories\",\"Electronic accessories\",\"Electronic accessories\",\"Fashion accessories\",\"Food and beverages\",\"Health and beauty\",\"Health and beauty\",\"Food and beverages\",\"Food and beverages\",\"Sports and travel\",\"Sports and travel\",\"Fashion accessories\",\"Home and lifestyle\",\"Sports and travel\",\"Health and beauty\",\"Electronic accessories\",\"Fashion accessories\",\"Fashion accessories\",\"Electronic accessories\",\"Fashion accessories\",\"Food and beverages\",\"Electronic accessories\",\"Health and beauty\",\"Home and lifestyle\",\"Fashion accessories\",\"Sports and travel\",\"Home and lifestyle\",\"Fashion accessories\",\"Food and beverages\",\"Health and beauty\",\"Fashion accessories\",\"Sports and travel\",\"Health and beauty\",\"Health and beauty\",\"Food and beverages\",\"Health and beauty\",\"Health and beauty\",\"Sports and travel\",\"Food and beverages\",\"Sports and travel\",\"Food and beverages\",\"Sports and travel\",\"Home and lifestyle\",\"Electronic accessories\",\"Fashion accessories\",\"Health and beauty\",\"Fashion accessories\",\"Food and beverages\",\"Health and beauty\",\"Home and lifestyle\",\"Food and beverages\",\"Fashion accessories\",\"Health and beauty\",\"Health and beauty\",\"Food and beverages\",\"Sports and travel\",\"Electronic accessories\",\"Electronic accessories\",\"Home and lifestyle\",\"Food and beverages\",\"Electronic accessories\",\"Fashion accessories\",\"Sports and travel\",\"Electronic accessories\",\"Health and beauty\",\"Fashion accessories\",\"Fashion accessories\",\"Fashion accessories\",\"Sports and travel\",\"Electronic accessories\",\"Fashion accessories\",\"Home and lifestyle\",\"Health and beauty\",\"Home and lifestyle\",\"Fashion accessories\",\"Fashion accessories\",\"Home and lifestyle\",\"Home and lifestyle\",\"Sports and travel\",\"Electronic accessories\",\"Electronic accessories\",\"Electronic accessories\",\"Home and lifestyle\",\"Fashion accessories\",\"Food and beverages\",\"Fashion accessories\",\"Electronic accessories\",\"Food and beverages\",\"Food and beverages\",\"Electronic accessories\",\"Health and beauty\",\"Health and beauty\",\"Food and beverages\",\"Health and beauty\",\"Food and beverages\",\"Sports and travel\",\"Electronic accessories\",\"Food and beverages\",\"Home and lifestyle\",\"Fashion accessories\",\"Electronic accessories\",\"Fashion accessories\",\"Sports and travel\",\"Food and beverages\",\"Food and beverages\",\"Food and beverages\",\"Fashion accessories\",\"Electronic accessories\",\"Sports and travel\",\"Home and lifestyle\",\"Fashion accessories\",\"Sports and travel\",\"Fashion accessories\",\"Electronic accessories\",\"Food and beverages\",\"Food and beverages\",\"Fashion accessories\",\"Fashion accessories\",\"Food and beverages\",\"Home and lifestyle\",\"Home and lifestyle\",\"Fashion accessories\",\"Fashion accessories\",\"Home and lifestyle\",\"Health and beauty\",\"Food and beverages\",\"Electronic accessories\",\"Fashion accessories\",\"Fashion accessories\",\"Food and beverages\",\"Sports and travel\",\"Sports and travel\",\"Food and beverages\",\"Electronic accessories\",\"Food and beverages\",\"Fashion accessories\",\"Food and beverages\",\"Fashion accessories\",\"Electronic accessories\",\"Food and beverages\",\"Food and beverages\",\"Sports and travel\",\"Food and beverages\",\"Sports and travel\",\"Health and beauty\",\"Food and beverages\",\"Electronic accessories\",\"Home and lifestyle\",\"Electronic accessories\",\"Food and beverages\",\"Electronic accessories\",\"Sports and travel\",\"Home and lifestyle\",\"Home and lifestyle\",\"Electronic accessories\",\"Food and beverages\",\"Fashion accessories\",\"Home and lifestyle\",\"Home and lifestyle\",\"Sports and travel\",\"Fashion accessories\",\"Home and lifestyle\",\"Sports and travel\",\"Home and lifestyle\",\"Health and beauty\",\"Food and beverages\",\"Home and lifestyle\",\"Food and beverages\",\"Health and beauty\",\"Electronic accessories\",\"Electronic accessories\",\"Food and beverages\",\"Food and beverages\",\"Sports and travel\",\"Sports and travel\",\"Food and beverages\",\"Food and beverages\",\"Fashion accessories\",\"Fashion accessories\",\"Health and beauty\",\"Home and lifestyle\",\"Sports and travel\",\"Fashion accessories\",\"Electronic accessories\",\"Fashion accessories\",\"Food and beverages\",\"Fashion accessories\",\"Food and beverages\",\"Food and beverages\",\"Sports and travel\",\"Electronic accessories\",\"Fashion accessories\",\"Electronic accessories\",\"Electronic accessories\",\"Food and beverages\",\"Electronic accessories\",\"Health and beauty\",\"Sports and travel\",\"Electronic accessories\",\"Electronic accessories\",\"Sports and travel\",\"Food and beverages\",\"Sports and travel\",\"Health and beauty\",\"Health and beauty\",\"Health and beauty\",\"Fashion accessories\",\"Sports and travel\",\"Sports and travel\",\"Food and beverages\",\"Fashion accessories\",\"Food and beverages\",\"Home and lifestyle\",\"Fashion accessories\",\"Food and beverages\",\"Fashion accessories\",\"Home and lifestyle\",\"Electronic accessories\",\"Health and beauty\",\"Fashion accessories\",\"Sports and travel\",\"Food and beverages\",\"Health and beauty\",\"Home and lifestyle\",\"Fashion accessories\",\"Health and beauty\",\"Home and lifestyle\",\"Electronic accessories\",\"Home and lifestyle\",\"Food and beverages\",\"Sports and travel\",\"Food and beverages\",\"Home and lifestyle\",\"Health and beauty\",\"Fashion accessories\",\"Fashion accessories\",\"Health and beauty\",\"Sports and travel\",\"Food and beverages\",\"Food and beverages\",\"Health and beauty\",\"Sports and travel\",\"Health and beauty\",\"Home and lifestyle\",\"Health and beauty\",\"Electronic accessories\",\"Health and beauty\",\"Health and beauty\",\"Health and beauty\",\"Home and lifestyle\",\"Home and lifestyle\",\"Electronic accessories\",\"Fashion accessories\",\"Fashion accessories\",\"Sports and travel\",\"Fashion accessories\",\"Sports and travel\",\"Electronic accessories\",\"Electronic accessories\",\"Sports and travel\",\"Food and beverages\",\"Sports and travel\",\"Food and beverages\",\"Health and beauty\",\"Home and lifestyle\",\"Health and beauty\",\"Health and beauty\",\"Food and beverages\",\"Fashion accessories\",\"Home and lifestyle\",\"Fashion accessories\",\"Fashion accessories\",\"Fashion accessories\",\"Health and beauty\",\"Fashion accessories\",\"Fashion accessories\",\"Food and beverages\",\"Health and beauty\",\"Electronic accessories\",\"Health and beauty\",\"Home and lifestyle\",\"Health and beauty\",\"Electronic accessories\",\"Electronic accessories\",\"Sports and travel\",\"Home and lifestyle\",\"Home and lifestyle\",\"Sports and travel\",\"Sports and travel\",\"Fashion accessories\",\"Health and beauty\",\"Home and lifestyle\",\"Health and beauty\",\"Food and beverages\",\"Fashion accessories\",\"Electronic accessories\",\"Home and lifestyle\",\"Food and beverages\",\"Food and beverages\",\"Home and lifestyle\",\"Fashion accessories\",\"Electronic accessories\",\"Fashion accessories\",\"Food and beverages\",\"Health and beauty\",\"Electronic accessories\",\"Electronic accessories\",\"Electronic accessories\",\"Health and beauty\"],\"xaxis\":\"x\",\"y\":[62188.55999999999,21893.76,38571.12,212556.96,30466.8,99769.32,25099.2,12670.56,167000.4,177905.7,265594.14,253350.72,91082.88,32780.16,156764.15999999997,142067.52,192859.38,68074.02,42933.24,27019.44,12216.96,187348.14,114518.88,221379.48,55021.68,109635.12,174613.31999999998,218952.72,332148.6,187563.6,80306.09999999999,12466.44,192734.64,41466.6,19414.08,40400.64,340063.92,170765.28,307132.56,104834.52,52678.08,198336.6,196219.8,217304.64,138408.48,27280.26,95029.2,330742.44,211808.52,150822.0,128731.68,151294.5,119954.52,59844.96,20502.72,285737.76,70262.64,87363.36,55581.12,38631.6,86924.88,97902.0,33585.3,34439.579999999994,339281.46,174560.4,52640.27999999999,78348.06,46815.3,286886.88,65023.55999999999,102853.8,164263.68,235996.74,205707.6,61515.72,12009.06,286074.18,111615.84,24985.8,283862.88,92307.6,193316.76,158363.1,49321.44,57909.600000000006,20582.1,281988.0,127442.7,226142.28,126928.62,126025.2,128357.46,152334.0,68455.8,14745.78,45239.04,181281.24,147782.88,77308.56,74912.04000000001,131430.6,145673.64,54534.06,148096.62,203477.4,51030.0,144815.58,91854.0,134779.68000000002,31185.0,28338.660000000003,69483.95999999999,46085.76,120362.76,35758.8,188414.1,28659.960000000003,48210.12,143451.0,46233.18,93124.08,65454.48,75127.5,103889.52,129313.8,16533.72,36329.58,43258.32,76870.08,138155.22,23666.58,127140.3,52224.48,252798.84,17932.32,267412.32,7238.700000000001,10232.46,14787.36,169442.28,49918.67999999999,55868.4,263314.8,300094.2,276129.0,83961.36,219451.68,129918.6,228236.4,74828.88,155320.2,264267.36,26233.2,76567.68,75516.84,229582.08,37093.14,27960.66,70542.36,33434.1,54999.0,190625.4,115838.1,240098.04,103685.4,51835.14,59285.52,45254.16,205480.8,86751.0,27956.88,30512.16,26913.6,58680.72,97410.6,64944.18,184762.62,198132.48,42502.32000000001,54462.24,73415.15999999999,128278.08000000002,75033.0,211309.56,155055.6,100812.6,54726.84,215146.26,91173.6,52549.56,27336.960000000003,71510.04000000001,109771.2,16805.88,123628.68,48006.0,43764.84,105711.48,164656.8,250285.14,314685.0,34530.3,59633.28,312152.4,113059.8,90617.94,251256.6,33320.700000000004,59444.28,112027.86,42086.52,12712.14,142997.4,126577.08,126962.64,90992.16,48727.98,133245.0,65477.15999999999,27170.64,30708.72,70610.4,83246.94,63330.12,169555.68000000002,14923.439999999997,13158.18,52345.44,37119.6,49011.48,94031.28,36650.88,74730.6,273758.94,300702.78,189903.42,65016.0,39644.64,67631.76,50032.08,35290.079999999994,263617.2,138068.28,200778.48000000004,20306.160000000003,276877.44,246569.4,41810.58,33747.84,138499.2,108077.76,291816.0,272651.4,288671.04,31048.92000000001,144607.68000000002,144456.48,54545.4,35297.64,298933.74,368058.6,20548.08,35070.84,52186.68,257157.18,6709.5,32508.0,160907.04,145393.91999999998,89132.4,79969.68000000001,158971.68000000002,245318.22,94605.84,35834.4,107771.58,101220.84,22793.4,199546.2,124207.02,63866.88,130614.11999999998,38374.56,135131.22,273762.72,81005.4,15025.499999999998,36590.4,125533.8,120922.2,175119.84,53638.2,114420.6,299859.84,69506.64,156643.2,185257.8,33056.1,78211.98000000001,29778.84,37127.16,20835.36,33381.18,300226.5,19134.36,226618.56,143224.2,20328.84,79924.32,45257.94,24834.6,95029.2,149483.88,104373.36,25197.48,28932.120000000003,65186.1,319901.4,97663.86,230413.68,37739.52,60328.8,9620.1,25617.06,120411.9,11158.56,187488.0,227918.88000000003,289548.0,66112.2,368096.4,197629.74,122589.18,176057.28,228376.26,156129.12,27412.56,88735.5,163258.2,269816.4,182388.78,164679.48,61995.78,65318.4,100506.42,159032.16,66278.52,84675.78,73014.48,118351.8,207113.76,84275.1,33521.03999999999,270950.4,273483.0,59761.8,59988.6,297750.60000000003,6928.740000000001,254027.34,68074.02,130659.48,16053.66,58159.08,36726.48,59818.5,132133.68,335172.6,140910.84000000003,197554.14,41428.8,301069.44,247903.74,60952.5,208950.84,49725.9,78064.56,219240.0,176790.6,113929.2,98159.04,283182.48000000004,174428.1,24074.82,121160.34,374144.4,116303.04,183949.92,132318.9,115123.68,67042.07999999999,167559.84,58590.0,32651.64,27998.46,61821.9,9559.62,78348.06,89234.46,6909.840000000001,107321.76,32697.0,191782.08,196333.2,70413.84000000001,33902.82,84845.88,45186.12,94726.8,143912.16,33906.6,117512.64,35910.0,178113.6,25080.300000000003,58763.880000000005,48761.99999999999,255354.12,84067.2,260366.4,106958.88,134341.2,73279.08,9094.68,166395.6,211559.04,5798.52,226414.44,72077.04000000001,251052.48,23617.44,27488.160000000003,177765.84000000003,90735.12,77399.28,191041.2,106448.58,268500.96,30028.320000000003,61923.96,26894.7,52901.1,34609.68,116745.3,48807.36,188584.2,54976.32000000001,37308.6,145567.80000000002,17750.88,53770.50000000001,259912.8,50633.100000000006,265117.86,27197.1,68848.92,136771.74,244823.04,166062.96,99701.28,73143.0,126800.1,182763.0,124482.96,77376.6,122169.6,29037.96,197542.8,30141.72,146475.0,102570.3,101697.12,26063.1,85473.36,39633.3,29302.56,154012.31999999998,66732.12000000001,140687.82,342657.0,53207.28,77089.32,303492.42,50538.6,120222.9,9450.0,31404.24,97032.6,60555.600000000006,163031.4,121791.6,73914.12,62861.4,14590.8,70194.6,56170.8,74314.8,155796.48,73120.31999999999,81099.9,143624.88,263409.3,26255.88,84913.92,185318.28,172764.9,333702.18,57675.24,262120.32,53524.8,37021.32,110451.6,34791.12,111207.6,207351.9,149824.08000000002,51120.72,94484.88,82124.28,168988.68,306973.8,223647.48,26803.98,162369.9,97176.24,117452.16,78185.52,59353.55999999999,81383.4,27631.8,17229.239999999998,85276.8,59194.8,53161.92,141957.9,11570.580000000002,10946.88,254961.0,131725.44,223466.04,81285.12,34628.58,46017.72,60442.2,4570.02,242638.2,88803.54000000001,63330.12,76601.7,65862.72,275108.4,17792.46,99962.1,52787.7,20960.1,73528.56,211831.2,171914.4,111086.64,109998.0,16238.88,240256.8,76091.40000000001,183821.4,165129.3,40884.48,236711.16000000003,29143.8,182846.16,67435.2,189083.16,13539.96,51460.92,33747.84,63504.0,7446.599999999999,319651.92,54152.28,28493.64,51559.2,65847.6,294204.96,218907.36,71253.0,83749.68000000001,193173.12,20204.1,83916.0,25923.24,143277.12,11574.36,197338.68,155875.86,17542.98,245019.6,35237.16,92572.2,166561.91999999998,117134.64,70444.08,75947.76,152182.80000000002,35966.7,147026.88,102453.12,36046.08,77917.14,33279.12,46811.52,280551.6,31933.44,34511.4,19799.64,72840.6,58899.96,29839.32,8058.96,106346.52,27692.28,224758.8,28009.800000000003,74450.88,181345.5,42804.72,162037.26,9646.56,90255.06,97660.08,65673.72,201988.08,35214.48,272220.48,78064.56,63005.04,120604.68,33226.2,277716.6,290757.6,119206.08000000002,52409.7,30508.38,60132.240000000005,281594.88,155252.16,112946.4,143141.04,134787.24,281383.2,169117.19999999998,104430.06,100578.24,172670.4,95993.1,26671.680000000004,248406.48,112640.22,335641.32,15792.84,5858.999999999999,113286.6,91865.34,17917.2,90810.72,112885.92,87922.8,331626.96,106898.4,43870.68,12035.52,24879.960000000003,233747.64,28879.2,225941.94,278056.8,162615.6,150323.04,25749.360000000004,166078.08000000002,42419.16,298468.8,11619.72,312341.4,241844.4,5832.54,260003.52,69423.48,28055.16,126395.64,25303.32,338234.4,234813.6,172163.88,157437.0,166834.08000000002,296011.8,38518.2,224962.92,58211.99999999999,121504.31999999998,92439.9,219776.76,144622.80000000002,71638.56,169570.8,33925.5,28236.6,18412.38,267227.1,78484.14,62097.84000000001,115599.96,309846.6,111370.13999999998,274847.58,30640.68,151139.52,193263.84000000003,107945.46,207264.96,184388.4,102309.48,339444.0,342090.0,259308.0,11494.98,104917.68,100003.68,91445.76,37376.64,244853.28,130576.32,57758.4,361292.4,63050.4,59561.46,98431.2,170031.96,116333.27999999998,103753.44,105552.72,298695.60000000003,28081.62,33037.2,62748.00000000001,134927.1,43432.2,162490.86,226743.3,107843.4,317270.52,22320.9,4740.12,65892.95999999999,56034.72000000001,32904.9,83575.8,70459.2,133018.2,10878.84,99701.28,24872.4,53630.64,15966.72,82479.6,144275.04,268342.2,13986.0,28297.08,80797.5,73691.09999999999,98128.8,43606.08,33494.579999999994,75463.92,18374.58,52413.48,295331.4,75123.72,23904.72,141353.1,78506.82,66633.84000000001,78007.86,14900.760000000002,142521.12,27783.0,54035.1,183386.7,269892.0,375354.00000000006,11430.72,141939.0,360763.2,285677.28,75441.24,62354.88,123500.16,174590.63999999998,54280.8,159009.48,95437.44000000002,252666.54,146633.75999999998,20117.16,113233.68,106074.36,183946.14,91264.32,89427.24,69884.64000000001,5284.4400000000005,258752.34,45019.8,68614.56,30810.78,43772.4,95312.7,367453.8,6153.84,32712.120000000003,337614.48,125390.16,25764.48,123560.64,32961.6,4830.84,104554.8,51869.16,176034.6,13566.42,76582.8,111812.4,8550.359999999999,206199.0,98298.9,8157.240000000001,37361.52,189990.36,127113.84,199493.28,123984.0,139784.4,8678.880000000001,45813.6,47794.32,204664.32,12058.2,52466.4,36174.6,154499.94,19455.66,74447.1,135928.8,188629.56,47529.72000000001,55486.62,44108.82,198404.64,28682.64,42570.36,50372.28,372405.6,337176.0,186467.4,195751.08,48036.24,30867.48,70292.87999999999,225325.8,105530.04,64139.04000000001,158737.31999999998,69646.5,31404.24,24566.22,293176.8,137300.94,75282.48,336695.94,30591.54,166149.9,98567.28,17463.6,267775.2,219300.48,22774.5,159236.28,11710.44,93517.2,37682.82,45352.44,329238.0,74692.8,108206.28,101727.36,222831.0,111857.76,55097.28,238786.38,145635.84000000003,194163.48000000004,178945.2,368550.0,182679.84,26074.44,47234.88,114201.36,264097.26,47117.7,298468.8,308323.26,97293.42,86184.0,63016.380000000005,147057.12,309771.0,214855.2,222112.8,147144.06,32065.74,95770.08,14522.76,19901.7,214934.58,96242.58,86252.04000000001,227212.02,179901.54,19814.76,49631.4,172810.26,47722.5,65923.2,133086.24000000002,19202.4,217395.36,20771.1,68572.98,103647.6,23008.86,163844.1,91324.8,178313.94,235040.4,122793.3,120234.24000000002,3844.26,245511.0,211188.6,66270.95999999999,11241.72,8459.640000000001,247937.76,140740.74,32610.06,38340.54,47491.92,27567.54,21357.0,197346.24,19788.3,30784.32,36862.56,158117.4,174806.1,160718.04,107208.36,226497.6,152545.68000000002,44089.920000000006,118510.55999999998,319825.8,84868.56,80491.32,16197.3,121757.58,9623.88,219988.44000000003,79878.95999999999,63012.6,169555.68000000002,97206.48,208742.94,129933.72,339587.64,63693.00000000001,67680.9,31812.48,171766.97999999998,59724.0,34768.439999999995,109793.88,65114.28,90100.08,264494.16000000003,254995.02,311245.2,23039.1,15252.3],\"yaxis\":\"y\"}],                        {\"legend\":{\"tracegroupgap\":0},\"margin\":{\"t\":60},\"template\":{\"data\":{\"bar\":[{\"error_x\":{\"color\":\"#2a3f5f\"},\"error_y\":{\"color\":\"#2a3f5f\"},\"marker\":{\"line\":{\"color\":\"#E5ECF6\",\"width\":0.5},\"pattern\":{\"fillmode\":\"overlay\",\"size\":10,\"solidity\":0.2}},\"type\":\"bar\"}],\"barpolar\":[{\"marker\":{\"line\":{\"color\":\"#E5ECF6\",\"width\":0.5},\"pattern\":{\"fillmode\":\"overlay\",\"size\":10,\"solidity\":0.2}},\"type\":\"barpolar\"}],\"carpet\":[{\"aaxis\":{\"endlinecolor\":\"#2a3f5f\",\"gridcolor\":\"white\",\"linecolor\":\"white\",\"minorgridcolor\":\"white\",\"startlinecolor\":\"#2a3f5f\"},\"baxis\":{\"endlinecolor\":\"#2a3f5f\",\"gridcolor\":\"white\",\"linecolor\":\"white\",\"minorgridcolor\":\"white\",\"startlinecolor\":\"#2a3f5f\"},\"type\":\"carpet\"}],\"choropleth\":[{\"colorbar\":{\"outlinewidth\":0,\"ticks\":\"\"},\"type\":\"choropleth\"}],\"contour\":[{\"colorbar\":{\"outlinewidth\":0,\"ticks\":\"\"},\"colorscale\":[[0.0,\"#0d0887\"],[0.1111111111111111,\"#46039f\"],[0.2222222222222222,\"#7201a8\"],[0.3333333333333333,\"#9c179e\"],[0.4444444444444444,\"#bd3786\"],[0.5555555555555556,\"#d8576b\"],[0.6666666666666666,\"#ed7953\"],[0.7777777777777778,\"#fb9f3a\"],[0.8888888888888888,\"#fdca26\"],[1.0,\"#f0f921\"]],\"type\":\"contour\"}],\"contourcarpet\":[{\"colorbar\":{\"outlinewidth\":0,\"ticks\":\"\"},\"type\":\"contourcarpet\"}],\"heatmap\":[{\"colorbar\":{\"outlinewidth\":0,\"ticks\":\"\"},\"colorscale\":[[0.0,\"#0d0887\"],[0.1111111111111111,\"#46039f\"],[0.2222222222222222,\"#7201a8\"],[0.3333333333333333,\"#9c179e\"],[0.4444444444444444,\"#bd3786\"],[0.5555555555555556,\"#d8576b\"],[0.6666666666666666,\"#ed7953\"],[0.7777777777777778,\"#fb9f3a\"],[0.8888888888888888,\"#fdca26\"],[1.0,\"#f0f921\"]],\"type\":\"heatmap\"}],\"heatmapgl\":[{\"colorbar\":{\"outlinewidth\":0,\"ticks\":\"\"},\"colorscale\":[[0.0,\"#0d0887\"],[0.1111111111111111,\"#46039f\"],[0.2222222222222222,\"#7201a8\"],[0.3333333333333333,\"#9c179e\"],[0.4444444444444444,\"#bd3786\"],[0.5555555555555556,\"#d8576b\"],[0.6666666666666666,\"#ed7953\"],[0.7777777777777778,\"#fb9f3a\"],[0.8888888888888888,\"#fdca26\"],[1.0,\"#f0f921\"]],\"type\":\"heatmapgl\"}],\"histogram\":[{\"marker\":{\"pattern\":{\"fillmode\":\"overlay\",\"size\":10,\"solidity\":0.2}},\"type\":\"histogram\"}],\"histogram2d\":[{\"colorbar\":{\"outlinewidth\":0,\"ticks\":\"\"},\"colorscale\":[[0.0,\"#0d0887\"],[0.1111111111111111,\"#46039f\"],[0.2222222222222222,\"#7201a8\"],[0.3333333333333333,\"#9c179e\"],[0.4444444444444444,\"#bd3786\"],[0.5555555555555556,\"#d8576b\"],[0.6666666666666666,\"#ed7953\"],[0.7777777777777778,\"#fb9f3a\"],[0.8888888888888888,\"#fdca26\"],[1.0,\"#f0f921\"]],\"type\":\"histogram2d\"}],\"histogram2dcontour\":[{\"colorbar\":{\"outlinewidth\":0,\"ticks\":\"\"},\"colorscale\":[[0.0,\"#0d0887\"],[0.1111111111111111,\"#46039f\"],[0.2222222222222222,\"#7201a8\"],[0.3333333333333333,\"#9c179e\"],[0.4444444444444444,\"#bd3786\"],[0.5555555555555556,\"#d8576b\"],[0.6666666666666666,\"#ed7953\"],[0.7777777777777778,\"#fb9f3a\"],[0.8888888888888888,\"#fdca26\"],[1.0,\"#f0f921\"]],\"type\":\"histogram2dcontour\"}],\"mesh3d\":[{\"colorbar\":{\"outlinewidth\":0,\"ticks\":\"\"},\"type\":\"mesh3d\"}],\"parcoords\":[{\"line\":{\"colorbar\":{\"outlinewidth\":0,\"ticks\":\"\"}},\"type\":\"parcoords\"}],\"pie\":[{\"automargin\":true,\"type\":\"pie\"}],\"scatter\":[{\"marker\":{\"colorbar\":{\"outlinewidth\":0,\"ticks\":\"\"}},\"type\":\"scatter\"}],\"scatter3d\":[{\"line\":{\"colorbar\":{\"outlinewidth\":0,\"ticks\":\"\"}},\"marker\":{\"colorbar\":{\"outlinewidth\":0,\"ticks\":\"\"}},\"type\":\"scatter3d\"}],\"scattercarpet\":[{\"marker\":{\"colorbar\":{\"outlinewidth\":0,\"ticks\":\"\"}},\"type\":\"scattercarpet\"}],\"scattergeo\":[{\"marker\":{\"colorbar\":{\"outlinewidth\":0,\"ticks\":\"\"}},\"type\":\"scattergeo\"}],\"scattergl\":[{\"marker\":{\"colorbar\":{\"outlinewidth\":0,\"ticks\":\"\"}},\"type\":\"scattergl\"}],\"scattermapbox\":[{\"marker\":{\"colorbar\":{\"outlinewidth\":0,\"ticks\":\"\"}},\"type\":\"scattermapbox\"}],\"scatterpolar\":[{\"marker\":{\"colorbar\":{\"outlinewidth\":0,\"ticks\":\"\"}},\"type\":\"scatterpolar\"}],\"scatterpolargl\":[{\"marker\":{\"colorbar\":{\"outlinewidth\":0,\"ticks\":\"\"}},\"type\":\"scatterpolargl\"}],\"scatterternary\":[{\"marker\":{\"colorbar\":{\"outlinewidth\":0,\"ticks\":\"\"}},\"type\":\"scatterternary\"}],\"surface\":[{\"colorbar\":{\"outlinewidth\":0,\"ticks\":\"\"},\"colorscale\":[[0.0,\"#0d0887\"],[0.1111111111111111,\"#46039f\"],[0.2222222222222222,\"#7201a8\"],[0.3333333333333333,\"#9c179e\"],[0.4444444444444444,\"#bd3786\"],[0.5555555555555556,\"#d8576b\"],[0.6666666666666666,\"#ed7953\"],[0.7777777777777778,\"#fb9f3a\"],[0.8888888888888888,\"#fdca26\"],[1.0,\"#f0f921\"]],\"type\":\"surface\"}],\"table\":[{\"cells\":{\"fill\":{\"color\":\"#EBF0F8\"},\"line\":{\"color\":\"white\"}},\"header\":{\"fill\":{\"color\":\"#C8D4E3\"},\"line\":{\"color\":\"white\"}},\"type\":\"table\"}]},\"layout\":{\"annotationdefaults\":{\"arrowcolor\":\"#2a3f5f\",\"arrowhead\":0,\"arrowwidth\":1},\"autotypenumbers\":\"strict\",\"coloraxis\":{\"colorbar\":{\"outlinewidth\":0,\"ticks\":\"\"}},\"colorscale\":{\"diverging\":[[0,\"#8e0152\"],[0.1,\"#c51b7d\"],[0.2,\"#de77ae\"],[0.3,\"#f1b6da\"],[0.4,\"#fde0ef\"],[0.5,\"#f7f7f7\"],[0.6,\"#e6f5d0\"],[0.7,\"#b8e186\"],[0.8,\"#7fbc41\"],[0.9,\"#4d9221\"],[1,\"#276419\"]],\"sequential\":[[0.0,\"#0d0887\"],[0.1111111111111111,\"#46039f\"],[0.2222222222222222,\"#7201a8\"],[0.3333333333333333,\"#9c179e\"],[0.4444444444444444,\"#bd3786\"],[0.5555555555555556,\"#d8576b\"],[0.6666666666666666,\"#ed7953\"],[0.7777777777777778,\"#fb9f3a\"],[0.8888888888888888,\"#fdca26\"],[1.0,\"#f0f921\"]],\"sequentialminus\":[[0.0,\"#0d0887\"],[0.1111111111111111,\"#46039f\"],[0.2222222222222222,\"#7201a8\"],[0.3333333333333333,\"#9c179e\"],[0.4444444444444444,\"#bd3786\"],[0.5555555555555556,\"#d8576b\"],[0.6666666666666666,\"#ed7953\"],[0.7777777777777778,\"#fb9f3a\"],[0.8888888888888888,\"#fdca26\"],[1.0,\"#f0f921\"]]},\"colorway\":[\"#636efa\",\"#EF553B\",\"#00cc96\",\"#ab63fa\",\"#FFA15A\",\"#19d3f3\",\"#FF6692\",\"#B6E880\",\"#FF97FF\",\"#FECB52\"],\"font\":{\"color\":\"#2a3f5f\"},\"geo\":{\"bgcolor\":\"white\",\"lakecolor\":\"white\",\"landcolor\":\"#E5ECF6\",\"showlakes\":true,\"showland\":true,\"subunitcolor\":\"white\"},\"hoverlabel\":{\"align\":\"left\"},\"hovermode\":\"closest\",\"mapbox\":{\"style\":\"light\"},\"paper_bgcolor\":\"white\",\"plot_bgcolor\":\"#E5ECF6\",\"polar\":{\"angularaxis\":{\"gridcolor\":\"white\",\"linecolor\":\"white\",\"ticks\":\"\"},\"bgcolor\":\"#E5ECF6\",\"radialaxis\":{\"gridcolor\":\"white\",\"linecolor\":\"white\",\"ticks\":\"\"}},\"scene\":{\"xaxis\":{\"backgroundcolor\":\"#E5ECF6\",\"gridcolor\":\"white\",\"gridwidth\":2,\"linecolor\":\"white\",\"showbackground\":true,\"ticks\":\"\",\"zerolinecolor\":\"white\"},\"yaxis\":{\"backgroundcolor\":\"#E5ECF6\",\"gridcolor\":\"white\",\"gridwidth\":2,\"linecolor\":\"white\",\"showbackground\":true,\"ticks\":\"\",\"zerolinecolor\":\"white\"},\"zaxis\":{\"backgroundcolor\":\"#E5ECF6\",\"gridcolor\":\"white\",\"gridwidth\":2,\"linecolor\":\"white\",\"showbackground\":true,\"ticks\":\"\",\"zerolinecolor\":\"white\"}},\"shapedefaults\":{\"line\":{\"color\":\"#2a3f5f\"}},\"ternary\":{\"aaxis\":{\"gridcolor\":\"white\",\"linecolor\":\"white\",\"ticks\":\"\"},\"baxis\":{\"gridcolor\":\"white\",\"linecolor\":\"white\",\"ticks\":\"\"},\"bgcolor\":\"#E5ECF6\",\"caxis\":{\"gridcolor\":\"white\",\"linecolor\":\"white\",\"ticks\":\"\"}},\"title\":{\"x\":0.05},\"xaxis\":{\"automargin\":true,\"gridcolor\":\"white\",\"linecolor\":\"white\",\"ticks\":\"\",\"title\":{\"standoff\":15},\"zerolinecolor\":\"white\",\"zerolinewidth\":2},\"yaxis\":{\"automargin\":true,\"gridcolor\":\"white\",\"linecolor\":\"white\",\"ticks\":\"\",\"title\":{\"standoff\":15},\"zerolinecolor\":\"white\",\"zerolinewidth\":2}}},\"xaxis\":{\"anchor\":\"y\",\"domain\":[0.0,1.0],\"title\":{\"text\":\"Product line\"}},\"yaxis\":{\"anchor\":\"x\",\"domain\":[0.0,1.0],\"title\":{\"text\":\"Total\"}}},                        {\"responsive\": true}                    ).then(function(){\n",
       "                            \n",
       "var gd = document.getElementById('58f7cb11-2007-4196-a0ea-96dad35f827c');\n",
       "var x = new MutationObserver(function (mutations, observer) {{\n",
       "        var display = window.getComputedStyle(gd).display;\n",
       "        if (!display || display === 'none') {{\n",
       "            console.log([gd, 'removed!']);\n",
       "            Plotly.purge(gd);\n",
       "            observer.disconnect();\n",
       "        }}\n",
       "}});\n",
       "\n",
       "// Listen for the removal of the full notebook cells\n",
       "var notebookContainer = gd.closest('#notebook-container');\n",
       "if (notebookContainer) {{\n",
       "    x.observe(notebookContainer, {childList: true});\n",
       "}}\n",
       "\n",
       "// Listen for the clearing of the current output cell\n",
       "var outputEl = gd.closest('.output');\n",
       "if (outputEl) {{\n",
       "    x.observe(outputEl, {childList: true});\n",
       "}}\n",
       "\n",
       "                        })                };                });            </script>        </div>"
      ]
     },
     "metadata": {},
     "output_type": "display_data"
    }
   ],
   "source": [
    "import plotly_express as px\n",
    "fig = px.area(data, x='Product line', y='Total')\n",
    "fig.show()"
   ]
  },
  {
   "cell_type": "markdown",
   "metadata": {},
   "source": [
    "## Time series"
   ]
  },
  {
   "cell_type": "code",
   "execution_count": 72,
   "metadata": {},
   "outputs": [],
   "source": [
    "df = pd.read_csv(\"All_Branches_Data.csv\", parse_dates=['Date'], index_col='Date')"
   ]
  },
  {
   "cell_type": "markdown",
   "metadata": {},
   "source": [
    "When importing the file to a pandas dataframe,we to specify the:\n",
    "- date column using the parameter `parse_dates`\n",
    "- datetime index using the parameter `index_col`"
   ]
  },
  {
   "cell_type": "code",
   "execution_count": 73,
   "metadata": {},
   "outputs": [
    {
     "data": {
      "text/html": [
       "<div>\n",
       "<style scoped>\n",
       "    .dataframe tbody tr th:only-of-type {\n",
       "        vertical-align: middle;\n",
       "    }\n",
       "\n",
       "    .dataframe tbody tr th {\n",
       "        vertical-align: top;\n",
       "    }\n",
       "\n",
       "    .dataframe thead th {\n",
       "        text-align: right;\n",
       "    }\n",
       "</style>\n",
       "<table border=\"1\" class=\"dataframe\">\n",
       "  <thead>\n",
       "    <tr style=\"text-align: right;\">\n",
       "      <th></th>\n",
       "      <th>Invoice ID</th>\n",
       "      <th>Branch</th>\n",
       "      <th>City</th>\n",
       "      <th>Customer type</th>\n",
       "      <th>Gender</th>\n",
       "      <th>Product line</th>\n",
       "      <th>Unit price</th>\n",
       "      <th>Quantity</th>\n",
       "      <th>Tax 5%</th>\n",
       "      <th>Total</th>\n",
       "      <th>Time</th>\n",
       "      <th>Payment</th>\n",
       "      <th>cogs</th>\n",
       "      <th>gross margin percentage</th>\n",
       "      <th>gross income</th>\n",
       "      <th>Rating</th>\n",
       "    </tr>\n",
       "    <tr>\n",
       "      <th>Date</th>\n",
       "      <th></th>\n",
       "      <th></th>\n",
       "      <th></th>\n",
       "      <th></th>\n",
       "      <th></th>\n",
       "      <th></th>\n",
       "      <th></th>\n",
       "      <th></th>\n",
       "      <th></th>\n",
       "      <th></th>\n",
       "      <th></th>\n",
       "      <th></th>\n",
       "      <th></th>\n",
       "      <th></th>\n",
       "      <th></th>\n",
       "      <th></th>\n",
       "    </tr>\n",
       "  </thead>\n",
       "  <tbody>\n",
       "    <tr>\n",
       "      <th>2019-02-20</th>\n",
       "      <td>692-92-5582</td>\n",
       "      <td>B</td>\n",
       "      <td>Abuja</td>\n",
       "      <td>Member</td>\n",
       "      <td>Female</td>\n",
       "      <td>Food and beverages</td>\n",
       "      <td>19742.4</td>\n",
       "      <td>3</td>\n",
       "      <td>2961.36</td>\n",
       "      <td>62188.56</td>\n",
       "      <td>13:27</td>\n",
       "      <td>Card</td>\n",
       "      <td>59227.2</td>\n",
       "      <td>4.761905</td>\n",
       "      <td>2961.36</td>\n",
       "      <td>5.9</td>\n",
       "    </tr>\n",
       "    <tr>\n",
       "      <th>2019-02-06</th>\n",
       "      <td>351-62-0822</td>\n",
       "      <td>B</td>\n",
       "      <td>Abuja</td>\n",
       "      <td>Member</td>\n",
       "      <td>Female</td>\n",
       "      <td>Fashion accessories</td>\n",
       "      <td>5212.8</td>\n",
       "      <td>4</td>\n",
       "      <td>1042.56</td>\n",
       "      <td>21893.76</td>\n",
       "      <td>18:07</td>\n",
       "      <td>Epay</td>\n",
       "      <td>20851.2</td>\n",
       "      <td>4.761905</td>\n",
       "      <td>1042.56</td>\n",
       "      <td>4.5</td>\n",
       "    </tr>\n",
       "    <tr>\n",
       "      <th>2019-03-09</th>\n",
       "      <td>529-56-3974</td>\n",
       "      <td>B</td>\n",
       "      <td>Abuja</td>\n",
       "      <td>Member</td>\n",
       "      <td>Male</td>\n",
       "      <td>Electronic accessories</td>\n",
       "      <td>9183.6</td>\n",
       "      <td>4</td>\n",
       "      <td>1836.72</td>\n",
       "      <td>38571.12</td>\n",
       "      <td>17:03</td>\n",
       "      <td>Cash</td>\n",
       "      <td>36734.4</td>\n",
       "      <td>4.761905</td>\n",
       "      <td>1836.72</td>\n",
       "      <td>6.8</td>\n",
       "    </tr>\n",
       "    <tr>\n",
       "      <th>2019-01-15</th>\n",
       "      <td>299-46-1805</td>\n",
       "      <td>B</td>\n",
       "      <td>Abuja</td>\n",
       "      <td>Member</td>\n",
       "      <td>Female</td>\n",
       "      <td>Sports and travel</td>\n",
       "      <td>33739.2</td>\n",
       "      <td>6</td>\n",
       "      <td>10121.76</td>\n",
       "      <td>212556.96</td>\n",
       "      <td>16:19</td>\n",
       "      <td>Cash</td>\n",
       "      <td>202435.2</td>\n",
       "      <td>4.761905</td>\n",
       "      <td>10121.76</td>\n",
       "      <td>4.5</td>\n",
       "    </tr>\n",
       "    <tr>\n",
       "      <th>2019-03-11</th>\n",
       "      <td>319-50-3348</td>\n",
       "      <td>B</td>\n",
       "      <td>Abuja</td>\n",
       "      <td>Normal</td>\n",
       "      <td>Female</td>\n",
       "      <td>Home and lifestyle</td>\n",
       "      <td>14508.0</td>\n",
       "      <td>2</td>\n",
       "      <td>1450.80</td>\n",
       "      <td>30466.80</td>\n",
       "      <td>15:30</td>\n",
       "      <td>Epay</td>\n",
       "      <td>29016.0</td>\n",
       "      <td>4.761905</td>\n",
       "      <td>1450.80</td>\n",
       "      <td>4.4</td>\n",
       "    </tr>\n",
       "  </tbody>\n",
       "</table>\n",
       "</div>"
      ],
      "text/plain": [
       "             Invoice ID Branch   City Customer type  Gender  \\\n",
       "Date                                                          \n",
       "2019-02-20  692-92-5582      B  Abuja        Member  Female   \n",
       "2019-02-06  351-62-0822      B  Abuja        Member  Female   \n",
       "2019-03-09  529-56-3974      B  Abuja        Member    Male   \n",
       "2019-01-15  299-46-1805      B  Abuja        Member  Female   \n",
       "2019-03-11  319-50-3348      B  Abuja        Normal  Female   \n",
       "\n",
       "                      Product line  Unit price  Quantity    Tax 5%      Total  \\\n",
       "Date                                                                            \n",
       "2019-02-20      Food and beverages     19742.4         3   2961.36   62188.56   \n",
       "2019-02-06     Fashion accessories      5212.8         4   1042.56   21893.76   \n",
       "2019-03-09  Electronic accessories      9183.6         4   1836.72   38571.12   \n",
       "2019-01-15       Sports and travel     33739.2         6  10121.76  212556.96   \n",
       "2019-03-11      Home and lifestyle     14508.0         2   1450.80   30466.80   \n",
       "\n",
       "             Time Payment      cogs  gross margin percentage  gross income  \\\n",
       "Date                                                                         \n",
       "2019-02-20  13:27    Card   59227.2                 4.761905       2961.36   \n",
       "2019-02-06  18:07    Epay   20851.2                 4.761905       1042.56   \n",
       "2019-03-09  17:03    Cash   36734.4                 4.761905       1836.72   \n",
       "2019-01-15  16:19    Cash  202435.2                 4.761905      10121.76   \n",
       "2019-03-11  15:30    Epay   29016.0                 4.761905       1450.80   \n",
       "\n",
       "            Rating  \n",
       "Date                \n",
       "2019-02-20     5.9  \n",
       "2019-02-06     4.5  \n",
       "2019-03-09     6.8  \n",
       "2019-01-15     4.5  \n",
       "2019-03-11     4.4  "
      ]
     },
     "execution_count": 73,
     "metadata": {},
     "output_type": "execute_result"
    }
   ],
   "source": [
    "df.head()"
   ]
  },
  {
   "cell_type": "code",
   "execution_count": 74,
   "metadata": {
    "scrolled": true
   },
   "outputs": [
    {
     "data": {
      "text/plain": [
       "DatetimeIndex(['2019-02-20', '2019-02-06', '2019-03-09', '2019-01-15',\n",
       "               '2019-03-11', '2019-03-05', '2019-03-15', '2019-02-08',\n",
       "               '2019-01-25', '2019-02-25',\n",
       "               ...\n",
       "               '2019-01-09', '2019-03-18', '2019-03-30', '2019-02-07',\n",
       "               '2019-01-19', '2019-01-23', '2019-01-09', '2019-03-29',\n",
       "               '2019-02-18', '2019-01-29'],\n",
       "              dtype='datetime64[ns]', name='Date', length=1000, freq=None)"
      ]
     },
     "execution_count": 74,
     "metadata": {},
     "output_type": "execute_result"
    }
   ],
   "source": [
    "df.index"
   ]
  },
  {
   "cell_type": "markdown",
   "metadata": {},
   "source": [
    "#### `resample()` is a method of pandas dataframes that can be used to summarize data by date or time"
   ]
  },
  {
   "cell_type": "code",
   "execution_count": 77,
   "metadata": {},
   "outputs": [
    {
     "data": {
      "text/plain": [
       "Date\n",
       "2019-01-31    41865072.48\n",
       "2019-02-28    34998974.64\n",
       "2019-03-31    39403982.52\n",
       "Freq: M, Name: Total, dtype: float64"
      ]
     },
     "execution_count": 77,
     "metadata": {},
     "output_type": "execute_result"
    }
   ],
   "source": [
    "df.Total.resample('M').sum()"
   ]
  },
  {
   "cell_type": "markdown",
   "metadata": {},
   "source": [
    "The data above showed total monthly sales for the 3 months in 2019, `January` has the highest sales of `41865072.48`, followed by `March` with the total sales of `39403982.52` and `February` with the total sales of `34998974.64`."
   ]
  },
  {
   "cell_type": "code",
   "execution_count": 79,
   "metadata": {},
   "outputs": [
    {
     "data": {
      "text/plain": [
       "Date\n",
       "2019-01-31    118934.865000\n",
       "2019-02-28    115508.167129\n",
       "2019-03-31    114214.442087\n",
       "Freq: M, Name: Total, dtype: float64"
      ]
     },
     "execution_count": 79,
     "metadata": {},
     "output_type": "execute_result"
    }
   ],
   "source": [
    "df.Total.resample('M').mean()"
   ]
  },
  {
   "cell_type": "code",
   "execution_count": 78,
   "metadata": {},
   "outputs": [
    {
     "data": {
      "text/plain": [
       "Date\n",
       "2019-01-01    40884.48\n",
       "2019-01-02    16053.66\n",
       "2019-01-03    15966.72\n",
       "2019-01-04    27280.26\n",
       "2019-01-05    12058.20\n",
       "                ...   \n",
       "2019-03-26    14787.36\n",
       "2019-03-27    33056.10\n",
       "2019-03-28    26671.68\n",
       "2019-03-29    43606.08\n",
       "2019-03-30    30784.32\n",
       "Freq: D, Name: Total, Length: 89, dtype: float64"
      ]
     },
     "execution_count": 78,
     "metadata": {},
     "output_type": "execute_result"
    }
   ],
   "source": [
    "df.Total.resample('D').min()"
   ]
  },
  {
   "cell_type": "code",
   "execution_count": 80,
   "metadata": {
    "scrolled": true
   },
   "outputs": [
    {
     "data": {
      "text/plain": [
       "<AxesSubplot:xlabel='Date'>"
      ]
     },
     "execution_count": 80,
     "metadata": {},
     "output_type": "execute_result"
    },
    {
     "data": {
      "image/png": "[encoded data removed]",
      "text/plain": [
       "<Figure size 432x288 with 1 Axes>"
      ]
     },
     "metadata": {
      "needs_background": "light"
     },
     "output_type": "display_data"
    }
   ],
   "source": [
    "df.Total.resample('D').min().plot()"
   ]
  },
  {
   "cell_type": "markdown",
   "metadata": {},
   "source": [
    "The graph above shows daily minimum sales, there was a `spike of sales` in the `second and the third week` of `February` with the minimum sales of `90,000+` and `60,000+` respectively."
   ]
  },
  {
   "cell_type": "code",
   "execution_count": 81,
   "metadata": {},
   "outputs": [
    {
     "data": {
      "text/plain": [
       "<AxesSubplot:xlabel='Date'>"
      ]
     },
     "execution_count": 81,
     "metadata": {},
     "output_type": "execute_result"
    },
    {
     "data": {
      "image/png": "[encoded data removed]",
      "text/plain": [
       "<Figure size 432x288 with 1 Axes>"
      ]
     },
     "metadata": {
      "needs_background": "light"
     },
     "output_type": "display_data"
    }
   ],
   "source": [
    "df.Total.resample('W').mean().plot()"
   ]
  },
  {
   "cell_type": "code",
   "execution_count": 68,
   "metadata": {
    "scrolled": true
   },
   "outputs": [
    {
     "data": {
      "text/plain": [
       "<AxesSubplot:xlabel='Date'>"
      ]
     },
     "execution_count": 68,
     "metadata": {},
     "output_type": "execute_result"
    },
    {
     "data": {
      "image/png": "[encoded data removed]",
      "text/plain": [
       "<Figure size 432x288 with 1 Axes>"
      ]
     },
     "metadata": {
      "needs_background": "light"
     },
     "output_type": "display_data"
    }
   ],
   "source": [
    "df.Total.resample('B').mean().plot()"
   ]
  },
  {
   "cell_type": "markdown",
   "metadata": {},
   "source": [
    "The `D` specifies that you want to aggregate, or resample, by `day`.\n",
    "The `M` specifies that you want to aggregate, or resample, by `Monthly`.\n",
    "The `W` specifies that you want to aggregate, or resample, by `Weekly`.\n",
    "The `B` specifies that you want to aggregate, or resample, by `Business Day`. #excluding holiday"
   ]
  },
  {
   "cell_type": "code",
   "execution_count": 83,
   "metadata": {},
   "outputs": [
    {
     "data": {
      "text/plain": [
       "<AxesSubplot:xlabel='Date'>"
      ]
     },
     "execution_count": 83,
     "metadata": {},
     "output_type": "execute_result"
    },
    {
     "data": {
      "image/png": "[encoded data removed]",
      "text/plain": [
       "<Figure size 432x288 with 1 Axes>"
      ]
     },
     "metadata": {
      "needs_background": "light"
     },
     "output_type": "display_data"
    }
   ],
   "source": [
    "df.Total.resample('M').mean().plot(kind='bar')"
   ]
  },
  {
   "cell_type": "code",
   "execution_count": 84,
   "metadata": {
    "scrolled": true
   },
   "outputs": [
    {
     "data": {
      "text/plain": [
       "<AxesSubplot:ylabel='Date'>"
      ]
     },
     "execution_count": 84,
     "metadata": {},
     "output_type": "execute_result"
    },
    {
     "data": {
      "image/png": "[encoded data removed]",
      "text/plain": [
       "<Figure size 432x288 with 1 Axes>"
      ]
     },
     "metadata": {
      "needs_background": "light"
     },
     "output_type": "display_data"
    }
   ],
   "source": [
    "df.Total.resample('M').sum().plot(kind='barh')"
   ]
  },
  {
   "cell_type": "markdown",
   "metadata": {},
   "source": [
    "The highest sales occurred in the monthly of January, though there was spike in february yet Feb. has the lowest sales. This can be due to incomplete days."
   ]
  },
  {
   "cell_type": "code",
   "execution_count": 95,
   "metadata": {},
   "outputs": [
    {
     "data": {
      "image/png": "[encoded data removed]",
      "text/plain": [
       "<Figure size 936x576 with 2 Axes>"
      ]
     },
     "metadata": {
      "needs_background": "light"
     },
     "output_type": "display_data"
    }
   ],
   "source": [
    "corrmat = data.corr()\n",
    "top_corr_features = corrmat.index\n",
    "plt.figure(figsize = (13, 8))\n",
    "\n",
    "#plot heat map\n",
    "g = sns.heatmap(data[top_corr_features].corr(), annot = True, cmap='coolwarm')"
   ]
  },
  {
   "cell_type": "raw",
   "metadata": {},
   "source": [
    "This shows the most correlated column"
   ]
  },
  {
   "cell_type": "markdown",
   "metadata": {},
   "source": [
    "## Step 8 - Documentation.\n",
    "\n",
    "* Write a detailed `ReadMe` that describes the project, explains important approach you followed to solve the tasks. Find a template in the starter file that can get you started quickly. Note: Do limit yourself to the template, you can include any interesting step that is worth sharing. \n",
    "* Write an Executive summary that you can present to `Company XYZ` management. The summary will explain your processes and insights you uncovered that can help the company "
   ]
  },
  {
   "cell_type": "raw",
   "metadata": {},
   "source": [
    "# SUMMARY \n",
    "\n",
    "- From the Analysis, we suggest that the supermarket need to create more awareness either by sharing fliers, online or outdoor marketing especially in Branch A(which has the highest population) and Branch B(Abuja)\n",
    "- we suggest that they look for a better way/method to make the normal customer a member either by introducing a discount or other means.\n",
    "- we will also suggest that, they should increase the quantity of Home and lifestyle product since it has the highest total sales, there shouldn't be a shortage of the product."
   ]
  }
 ],
 "metadata": {
  "kernelspec": {
   "display_name": "Python 3",
   "language": "python",
   "name": "python3"
  },
  "language_info": {
   "codemirror_mode": {
    "name": "ipython",
    "version": 3
   },
   "file_extension": ".py",
   "mimetype": "text/x-python",
   "name": "python",
   "nbconvert_exporter": "python",
   "pygments_lexer": "ipython3",
   "version": "3.8.8"
  }
 },
 "nbformat": 4,
 "nbformat_minor": 4
}
